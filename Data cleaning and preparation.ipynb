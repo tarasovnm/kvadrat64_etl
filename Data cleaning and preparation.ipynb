{
 "cells": [
  {
   "cell_type": "markdown",
   "metadata": {},
   "source": [
    "## Очистка и подготовка данных"
   ]
  },
  {
   "cell_type": "code",
   "execution_count": 51,
   "metadata": {},
   "outputs": [],
   "source": [
    "import matplotlib\n",
    "import pandas as pd\n",
    "import seaborn as sns\n",
    "import numpy as np\n",
    "import matplotlib.pyplot as plt\n",
    "\n",
    "from utils.cell_cleaners import stage_transform, parse_year\n",
    "\n",
    "%matplotlib inline  "
   ]
  },
  {
   "cell_type": "markdown",
   "metadata": {},
   "source": [
    "### Загружаем датасет и смотрим его основные характеристики"
   ]
  },
  {
   "cell_type": "code",
   "execution_count": 91,
   "metadata": {},
   "outputs": [
    {
     "data": {
      "text/html": [
       "<div>\n",
       "<style scoped>\n",
       "    .dataframe tbody tr th:only-of-type {\n",
       "        vertical-align: middle;\n",
       "    }\n",
       "\n",
       "    .dataframe tbody tr th {\n",
       "        vertical-align: top;\n",
       "    }\n",
       "\n",
       "    .dataframe thead th {\n",
       "        text-align: right;\n",
       "    }\n",
       "</style>\n",
       "<table border=\"1\" class=\"dataframe\">\n",
       "  <thead>\n",
       "    <tr style=\"text-align: right;\">\n",
       "      <th></th>\n",
       "      <th>Создано</th>\n",
       "      <th>Обновлено</th>\n",
       "      <th>Тип объекта</th>\n",
       "      <th>Название</th>\n",
       "      <th>Назначение</th>\n",
       "      <th>Количество комнат</th>\n",
       "      <th>Адрес</th>\n",
       "      <th>Площадь</th>\n",
       "      <th>Жилая площадь</th>\n",
       "      <th>Площадь кухни</th>\n",
       "      <th>...</th>\n",
       "      <th>Балкон</th>\n",
       "      <th>Дом(строение)</th>\n",
       "      <th>Этаж</th>\n",
       "      <th>Этажей в доме</th>\n",
       "      <th>Вторичное жилье</th>\n",
       "      <th>Стадия строительства</th>\n",
       "      <th>Дата сдачи</th>\n",
       "      <th>Предложение</th>\n",
       "      <th>Стоимость</th>\n",
       "      <th>url</th>\n",
       "    </tr>\n",
       "  </thead>\n",
       "  <tbody>\n",
       "    <tr>\n",
       "      <td>0</td>\n",
       "      <td>28-06-2019</td>\n",
       "      <td>19-02-2020</td>\n",
       "      <td>Квартира</td>\n",
       "      <td>2-х комнатная квартира</td>\n",
       "      <td>Жилое</td>\n",
       "      <td>2</td>\n",
       "      <td>в ЖК «Крылья», ул. Чернышевского, 137а, ОКТЯБР...</td>\n",
       "      <td>63.8</td>\n",
       "      <td>27.98</td>\n",
       "      <td>10.15</td>\n",
       "      <td>...</td>\n",
       "      <td>лоджия</td>\n",
       "      <td>NaN</td>\n",
       "      <td>11</td>\n",
       "      <td>18</td>\n",
       "      <td>NaN</td>\n",
       "      <td>дом сдан</td>\n",
       "      <td>2017 год постройки</td>\n",
       "      <td>Продажа</td>\n",
       "      <td>3410000</td>\n",
       "      <td>https://kvadrat64.ru/sellflat-548180.html</td>\n",
       "    </tr>\n",
       "    <tr>\n",
       "      <td>1</td>\n",
       "      <td>04-07-2018</td>\n",
       "      <td>19-02-2020</td>\n",
       "      <td>Квартира</td>\n",
       "      <td>3-х комнатная квартира</td>\n",
       "      <td>Жилое</td>\n",
       "      <td>3</td>\n",
       "      <td>в ЖК «Крылья», ул. Чернышевского, 137а, ОКТЯБР...</td>\n",
       "      <td>87.6</td>\n",
       "      <td>44.29</td>\n",
       "      <td>11.37</td>\n",
       "      <td>...</td>\n",
       "      <td>лоджия</td>\n",
       "      <td>NaN</td>\n",
       "      <td>7</td>\n",
       "      <td>18</td>\n",
       "      <td>NaN</td>\n",
       "      <td>дом сдан</td>\n",
       "      <td>2017 год постройки</td>\n",
       "      <td>Продажа</td>\n",
       "      <td>4240000</td>\n",
       "      <td>https://kvadrat64.ru/sellflat-499537.html</td>\n",
       "    </tr>\n",
       "    <tr>\n",
       "      <td>2</td>\n",
       "      <td>07-06-2018</td>\n",
       "      <td>19-02-2020</td>\n",
       "      <td>Квартира</td>\n",
       "      <td>4-х комнатная квартира</td>\n",
       "      <td>Жилое</td>\n",
       "      <td>4</td>\n",
       "      <td>в ЖК «Крылья», ул. Им Н. Г. Чернышевского, 137...</td>\n",
       "      <td>112.3</td>\n",
       "      <td>57.60</td>\n",
       "      <td>10.36</td>\n",
       "      <td>...</td>\n",
       "      <td>2 лоджии</td>\n",
       "      <td>NaN</td>\n",
       "      <td>4</td>\n",
       "      <td>18</td>\n",
       "      <td>NaN</td>\n",
       "      <td>дом сдан</td>\n",
       "      <td>2017 год постройки</td>\n",
       "      <td>Продажа</td>\n",
       "      <td>4860000</td>\n",
       "      <td>https://kvadrat64.ru/sellflat-495453.html</td>\n",
       "    </tr>\n",
       "    <tr>\n",
       "      <td>3</td>\n",
       "      <td>11-01-2020</td>\n",
       "      <td>19-02-2020</td>\n",
       "      <td>Квартира</td>\n",
       "      <td>2-х комнатная квартира</td>\n",
       "      <td>Жилое</td>\n",
       "      <td>2</td>\n",
       "      <td>ул. Одесская, 24, ЛЕНИНСКИЙ, Саратов</td>\n",
       "      <td>52.0</td>\n",
       "      <td>28.50</td>\n",
       "      <td>7.40</td>\n",
       "      <td>...</td>\n",
       "      <td>лоджия</td>\n",
       "      <td>NaN</td>\n",
       "      <td>3</td>\n",
       "      <td>9</td>\n",
       "      <td>1978 год постройки</td>\n",
       "      <td>NaN</td>\n",
       "      <td>NaN</td>\n",
       "      <td>Продажа</td>\n",
       "      <td>2150000</td>\n",
       "      <td>https://kvadrat64.ru/sellflat-570093.html</td>\n",
       "    </tr>\n",
       "    <tr>\n",
       "      <td>4</td>\n",
       "      <td>02-02-2020</td>\n",
       "      <td>19-02-2020</td>\n",
       "      <td>Квартира</td>\n",
       "      <td>2-х комнатная квартира</td>\n",
       "      <td>Жилое</td>\n",
       "      <td>2</td>\n",
       "      <td>ул. 1-й Автодорожный Проезд, 5/8, ОКТЯБРЬСКИЙ,...</td>\n",
       "      <td>52.5</td>\n",
       "      <td>35.00</td>\n",
       "      <td>9.00</td>\n",
       "      <td>...</td>\n",
       "      <td>2 лоджии</td>\n",
       "      <td>NaN</td>\n",
       "      <td>8</td>\n",
       "      <td>10</td>\n",
       "      <td>NaN</td>\n",
       "      <td>NaN</td>\n",
       "      <td>NaN</td>\n",
       "      <td>Продажа</td>\n",
       "      <td>3750000</td>\n",
       "      <td>https://kvadrat64.ru/sellflat-573177.html</td>\n",
       "    </tr>\n",
       "  </tbody>\n",
       "</table>\n",
       "<p>5 rows × 23 columns</p>\n",
       "</div>"
      ],
      "text/plain": [
       "      Создано   Обновлено Тип объекта                Название Назначение  \\\n",
       "0  28-06-2019  19-02-2020    Квартира  2-х комнатная квартира      Жилое   \n",
       "1  04-07-2018  19-02-2020    Квартира  3-х комнатная квартира      Жилое   \n",
       "2  07-06-2018  19-02-2020    Квартира  4-х комнатная квартира      Жилое   \n",
       "3  11-01-2020  19-02-2020    Квартира  2-х комнатная квартира      Жилое   \n",
       "4  02-02-2020  19-02-2020    Квартира  2-х комнатная квартира      Жилое   \n",
       "\n",
       "   Количество комнат                                              Адрес  \\\n",
       "0                  2  в ЖК «Крылья», ул. Чернышевского, 137а, ОКТЯБР...   \n",
       "1                  3  в ЖК «Крылья», ул. Чернышевского, 137а, ОКТЯБР...   \n",
       "2                  4  в ЖК «Крылья», ул. Им Н. Г. Чернышевского, 137...   \n",
       "3                  2               ул. Одесская, 24, ЛЕНИНСКИЙ, Саратов   \n",
       "4                  2  ул. 1-й Автодорожный Проезд, 5/8, ОКТЯБРЬСКИЙ,...   \n",
       "\n",
       "   Площадь  Жилая площадь  Площадь кухни  ...    Балкон Дом(строение) Этаж  \\\n",
       "0     63.8          27.98          10.15  ...    лоджия           NaN   11   \n",
       "1     87.6          44.29          11.37  ...    лоджия           NaN    7   \n",
       "2    112.3          57.60          10.36  ...  2 лоджии           NaN    4   \n",
       "3     52.0          28.50           7.40  ...    лоджия           NaN    3   \n",
       "4     52.5          35.00           9.00  ...  2 лоджии           NaN    8   \n",
       "\n",
       "  Этажей в доме     Вторичное жилье  Стадия строительства          Дата сдачи  \\\n",
       "0            18                 NaN              дом сдан  2017 год постройки   \n",
       "1            18                 NaN              дом сдан  2017 год постройки   \n",
       "2            18                 NaN              дом сдан  2017 год постройки   \n",
       "3             9  1978 год постройки                   NaN                 NaN   \n",
       "4            10                 NaN                   NaN                 NaN   \n",
       "\n",
       "  Предложение Стоимость                                        url  \n",
       "0     Продажа   3410000  https://kvadrat64.ru/sellflat-548180.html  \n",
       "1     Продажа   4240000  https://kvadrat64.ru/sellflat-499537.html  \n",
       "2     Продажа   4860000  https://kvadrat64.ru/sellflat-495453.html  \n",
       "3     Продажа   2150000  https://kvadrat64.ru/sellflat-570093.html  \n",
       "4     Продажа   3750000  https://kvadrat64.ru/sellflat-573177.html  \n",
       "\n",
       "[5 rows x 23 columns]"
      ]
     },
     "execution_count": 91,
     "metadata": {},
     "output_type": "execute_result"
    }
   ],
   "source": [
    "raw_data = pd.read_csv('apartments.csv')\n",
    "raw_data.head()"
   ]
  },
  {
   "cell_type": "code",
   "execution_count": 92,
   "metadata": {},
   "outputs": [
    {
     "name": "stdout",
     "output_type": "stream",
     "text": [
      "<class 'pandas.core.frame.DataFrame'>\n",
      "RangeIndex: 13521 entries, 0 to 13520\n",
      "Data columns (total 23 columns):\n",
      "Создано                 13521 non-null object\n",
      "Обновлено               13521 non-null object\n",
      "Тип объекта             13521 non-null object\n",
      "Название                13519 non-null object\n",
      "Назначение              13521 non-null object\n",
      "Количество комнат       13521 non-null int64\n",
      "Адрес                   13521 non-null object\n",
      "Площадь                 13521 non-null float64\n",
      "Жилая площадь           13521 non-null float64\n",
      "Площадь кухни           13521 non-null float64\n",
      "Планировка квартиры     2830 non-null object\n",
      "Комнаты                 6148 non-null object\n",
      "Санузел                 9178 non-null object\n",
      "Балкон                  8552 non-null object\n",
      "Дом(строение)           0 non-null float64\n",
      "Этаж                    13521 non-null int64\n",
      "Этажей в доме           13521 non-null int64\n",
      "Вторичное жилье         2523 non-null object\n",
      "Стадия строительства    2164 non-null object\n",
      "Дата сдачи              2592 non-null object\n",
      "Предложение             13521 non-null object\n",
      "Стоимость               13521 non-null int64\n",
      "url                     13521 non-null object\n",
      "dtypes: float64(4), int64(4), object(15)\n",
      "memory usage: 2.4+ MB\n"
     ]
    }
   ],
   "source": [
    "raw_data.info()"
   ]
  },
  {
   "cell_type": "code",
   "execution_count": 93,
   "metadata": {},
   "outputs": [
    {
     "data": {
      "text/plain": [
       "(13521, 23)"
      ]
     },
     "execution_count": 93,
     "metadata": {},
     "output_type": "execute_result"
    }
   ],
   "source": [
    "raw_data.shape"
   ]
  },
  {
   "cell_type": "code",
   "execution_count": 94,
   "metadata": {
    "scrolled": true
   },
   "outputs": [
    {
     "data": {
      "text/plain": [
       "Index(['Создано', 'Обновлено', 'Тип объекта', 'Название', 'Назначение',\n",
       "       'Количество комнат', 'Адрес', 'Площадь', 'Жилая площадь',\n",
       "       'Площадь кухни', 'Планировка квартиры', 'Комнаты', 'Санузел', 'Балкон',\n",
       "       'Дом(строение)', 'Этаж', 'Этажей в доме', 'Вторичное жилье',\n",
       "       'Стадия строительства', 'Дата сдачи', 'Предложение', 'Стоимость',\n",
       "       'url'],\n",
       "      dtype='object')"
      ]
     },
     "execution_count": 94,
     "metadata": {},
     "output_type": "execute_result"
    }
   ],
   "source": [
    "raw_data.columns"
   ]
  },
  {
   "cell_type": "markdown",
   "metadata": {},
   "source": [
    "### Работаем со столбцами определяющими статус дома во времени"
   ]
  },
  {
   "cell_type": "code",
   "execution_count": 95,
   "metadata": {},
   "outputs": [
    {
     "data": {
      "text/html": [
       "<div>\n",
       "<style scoped>\n",
       "    .dataframe tbody tr th:only-of-type {\n",
       "        vertical-align: middle;\n",
       "    }\n",
       "\n",
       "    .dataframe tbody tr th {\n",
       "        vertical-align: top;\n",
       "    }\n",
       "\n",
       "    .dataframe thead th {\n",
       "        text-align: right;\n",
       "    }\n",
       "</style>\n",
       "<table border=\"1\" class=\"dataframe\">\n",
       "  <thead>\n",
       "    <tr style=\"text-align: right;\">\n",
       "      <th></th>\n",
       "      <th>Вторичное жилье</th>\n",
       "      <th>Стадия строительства</th>\n",
       "      <th>Дата сдачи</th>\n",
       "    </tr>\n",
       "  </thead>\n",
       "  <tbody>\n",
       "    <tr>\n",
       "      <td>count</td>\n",
       "      <td>2523</td>\n",
       "      <td>2164</td>\n",
       "      <td>2592</td>\n",
       "    </tr>\n",
       "    <tr>\n",
       "      <td>unique</td>\n",
       "      <td>82</td>\n",
       "      <td>3</td>\n",
       "      <td>42</td>\n",
       "    </tr>\n",
       "    <tr>\n",
       "      <td>top</td>\n",
       "      <td>2016 год постройки</td>\n",
       "      <td>дом сдан</td>\n",
       "      <td>2019 год постройки</td>\n",
       "    </tr>\n",
       "    <tr>\n",
       "      <td>freq</td>\n",
       "      <td>178</td>\n",
       "      <td>1178</td>\n",
       "      <td>984</td>\n",
       "    </tr>\n",
       "  </tbody>\n",
       "</table>\n",
       "</div>"
      ],
      "text/plain": [
       "           Вторичное жилье Стадия строительства          Дата сдачи\n",
       "count                 2523                 2164                2592\n",
       "unique                  82                    3                  42\n",
       "top     2016 год постройки             дом сдан  2019 год постройки\n",
       "freq                   178                 1178                 984"
      ]
     },
     "execution_count": 95,
     "metadata": {},
     "output_type": "execute_result"
    }
   ],
   "source": [
    "raw_data[['Вторичное жилье','Стадия строительства', 'Дата сдачи']].describe()"
   ]
  },
  {
   "cell_type": "markdown",
   "metadata": {},
   "source": [
    "#### Стадия строительства"
   ]
  },
  {
   "cell_type": "code",
   "execution_count": 96,
   "metadata": {},
   "outputs": [
    {
     "data": {
      "text/plain": [
       "array(['дом сдан', nan, 'дом построен но не сдан', 'дом еще строится'],\n",
       "      dtype=object)"
      ]
     },
     "execution_count": 96,
     "metadata": {},
     "output_type": "execute_result"
    }
   ],
   "source": [
    "raw_data['Стадия строительства'].unique()"
   ]
  },
  {
   "cell_type": "code",
   "execution_count": 97,
   "metadata": {},
   "outputs": [],
   "source": [
    "raw_data['Стадия строительства'] = raw_data['Стадия строительства'].apply(stage_transform)"
   ]
  },
  {
   "cell_type": "code",
   "execution_count": 98,
   "metadata": {},
   "outputs": [
    {
     "data": {
      "text/plain": [
       "array(['сдан', 'нет данных', 'не сдан', 'строится'], dtype=object)"
      ]
     },
     "execution_count": 98,
     "metadata": {},
     "output_type": "execute_result"
    }
   ],
   "source": [
    "raw_data['Стадия строительства'].unique()"
   ]
  },
  {
   "cell_type": "markdown",
   "metadata": {},
   "source": [
    "#### Вторичное жилье"
   ]
  },
  {
   "cell_type": "code",
   "execution_count": 99,
   "metadata": {
    "scrolled": true
   },
   "outputs": [
    {
     "data": {
      "text/plain": [
       "array([nan, '1978 год постройки', '1975 год постройки',\n",
       "       '1974 год постройки', '2009 год постройки', '1990 год постройки',\n",
       "       '2014 год постройки', '1970 год постройки', '1968 год постройки',\n",
       "       '2005 год постройки', '2016 год постройки', '1976 год постройки',\n",
       "       '2010 год постройки', '1998 год постройки', '2015 год постройки',\n",
       "       '1992 год постройки', '1956 год постройки', '2011 год постройки',\n",
       "       '1979 год постройки', '1964 год постройки', '1984 год постройки',\n",
       "       '1985 год постройки', '2012 год постройки', '2000 год постройки',\n",
       "       '1957 год постройки', '1997 год постройки', '1952 год постройки',\n",
       "       '1959 год постройки', '1953 год постройки', '1954 год постройки',\n",
       "       '1989 год постройки', '1971 год постройки', '1969 год постройки',\n",
       "       '2003 год постройки', '1972 год постройки', '2007 год постройки',\n",
       "       '1993 год постройки', '2001 год постройки', '1991 год постройки',\n",
       "       '2013 год постройки', '1996 год постройки', '1960 год постройки',\n",
       "       '1981 год постройки', '2004 год постройки', '1995 год постройки',\n",
       "       '1977 год постройки', '1982 год постройки', '1973 год постройки',\n",
       "       '1994 год постройки', '1967 год постройки', '2008 год постройки',\n",
       "       '1983 год постройки', '1987 год постройки', '1980 год постройки',\n",
       "       '1986 год постройки', '1951 год постройки', '2002 год постройки',\n",
       "       '1966 год постройки', '1963 год постройки', '2006 год постройки',\n",
       "       '1988 год постройки', '1917 год постройки', '1950 год постройки',\n",
       "       '1961 год постройки', '1940 год постройки', '1965 год постройки',\n",
       "       '1962 год постройки', '1933 год постройки', '1927 год постройки',\n",
       "       '1915 год постройки', '1999 год постройки', '1955 год постройки',\n",
       "       '1930 год постройки', '1958 год постройки', '1932 год постройки',\n",
       "       '1949 год постройки', '1948 год постройки', '1910 год постройки',\n",
       "       '1936 год постройки', '1913 год постройки', '1945 год постройки',\n",
       "       '1916 год постройки', '1939 год постройки'], dtype=object)"
      ]
     },
     "execution_count": 99,
     "metadata": {},
     "output_type": "execute_result"
    }
   ],
   "source": [
    "raw_data['Вторичное жилье'].unique()"
   ]
  },
  {
   "cell_type": "code",
   "execution_count": 100,
   "metadata": {},
   "outputs": [],
   "source": [
    "raw_data[['Вторичное жилье']].fillna('нет данных', inplace=True)"
   ]
  },
  {
   "cell_type": "code",
   "execution_count": 101,
   "metadata": {},
   "outputs": [],
   "source": [
    "raw_data['Вторичное жилье'] = raw_data['Вторичное жилье'].apply(str)\n",
    "raw_data['Вторичное жилье'] = raw_data['Вторичное жилье'].apply(parse_year)"
   ]
  },
  {
   "cell_type": "code",
   "execution_count": 102,
   "metadata": {},
   "outputs": [
    {
     "data": {
      "text/plain": [
       "array([   0, 1978, 1975, 1974, 2009, 1990, 2014, 1970, 1968, 2005, 2016,\n",
       "       1976, 2010, 1998, 2015, 1992, 1956, 2011, 1979, 1964, 1984, 1985,\n",
       "       2012, 2000, 1957, 1997, 1952, 1959, 1953, 1954, 1989, 1971, 1969,\n",
       "       2003, 1972, 2007, 1993, 2001, 1991, 2013, 1996, 1960, 1981, 2004,\n",
       "       1995, 1977, 1982, 1973, 1994, 1967, 2008, 1983, 1987, 1980, 1986,\n",
       "       1951, 2002, 1966, 1963, 2006, 1988, 1917, 1950, 1961, 1940, 1965,\n",
       "       1962, 1933, 1927, 1915, 1999, 1955, 1930, 1958, 1932, 1949, 1948,\n",
       "       1910, 1936, 1913, 1945, 1916, 1939], dtype=int64)"
      ]
     },
     "execution_count": 102,
     "metadata": {},
     "output_type": "execute_result"
    }
   ],
   "source": [
    "raw_data['Вторичное жилье'].unique()"
   ]
  },
  {
   "cell_type": "markdown",
   "metadata": {},
   "source": [
    "#### Дата сдачи"
   ]
  },
  {
   "cell_type": "code",
   "execution_count": 103,
   "metadata": {},
   "outputs": [
    {
     "data": {
      "text/plain": [
       "array(['2017 год постройки', nan, '2019 год постройки',\n",
       "       'сдача дома 2021 год', 'сдача дома 2020 год, 2-ой квартал',\n",
       "       '2018 год постройки', 'сдача дома 2020 год, 4-ый квартал',\n",
       "       'сдача дома 2021 год, 4-ый квартал', 'сдача дома 2020 год',\n",
       "       'сдача дома 2020 год, 1-ый квартал',\n",
       "       'сдача дома 2020 год, 3-ий квартал', 'сдача дома 2022 год',\n",
       "       'сдача дома 2021 год, 1-ый квартал',\n",
       "       'сдача дома 2020 год, 4-ый квартал, декабрь',\n",
       "       'сдача дома 2020 год, 1-ый квартал, март',\n",
       "       'сдача дома 2020 год, апрель',\n",
       "       'сдача дома 2020 год, 3-ий квартал, сентябрь',\n",
       "       'сдача дома 2021 год, октябрь',\n",
       "       'сдача дома 2020 год, 2-ой квартал, июнь',\n",
       "       'сдача дома 2020 год, 2-ой квартал, апрель',\n",
       "       'сдача дома 2020 год, 2-ой квартал, май',\n",
       "       'сдача дома 2021 год, 2-ой квартал',\n",
       "       'сдача дома 2020 год, 4-ый квартал, ноябрь',\n",
       "       'сдача дома 2020 год, 3-ий квартал, ноябрь',\n",
       "       'сдача дома 2021 год, 3-ий квартал, сентябрь',\n",
       "       'сдача дома 2020 год, 1-ый квартал, январь',\n",
       "       'сдача дома 2021 год, декабрь',\n",
       "       'сдача дома 2022 год, 3-ий квартал, сентябрь',\n",
       "       'сдача дома 2020 год, 1-ый квартал, февраль',\n",
       "       'сдача дома 2020 год, ноябрь', 'сдача дома 2022 год, 3-ий квартал',\n",
       "       'сдача дома 2021 год, 3-ий квартал',\n",
       "       'сдача дома 2021 год, 4-ый квартал, декабрь',\n",
       "       'сдача дома 2020 год, 4-ый квартал, октябрь',\n",
       "       'сдача дома 2021 год, 4-ый квартал, сентябрь',\n",
       "       'сдача дома 2020 год, 1-ый квартал, апрель',\n",
       "       'сдача дома 2020 год, декабрь',\n",
       "       'сдача дома 2021 год, 2-ой квартал, апрель',\n",
       "       'сдача дома 2020 год, 4-ый квартал, сентябрь',\n",
       "       'сдача дома 2021 год, 1-ый квартал, март',\n",
       "       'сдача дома 2020 год, 2-ой квартал, март',\n",
       "       'сдача дома 2020 год, 3-ий квартал, октябрь',\n",
       "       'сдача дома 2021 год, 2-ой квартал, июнь'], dtype=object)"
      ]
     },
     "execution_count": 103,
     "metadata": {},
     "output_type": "execute_result"
    }
   ],
   "source": [
    "raw_data['Дата сдачи'].unique()"
   ]
  },
  {
   "cell_type": "code",
   "execution_count": 104,
   "metadata": {},
   "outputs": [],
   "source": [
    "raw_data[['Дата сдачи']].fillna('нет данных', inplace=True)"
   ]
  },
  {
   "cell_type": "code",
   "execution_count": 105,
   "metadata": {},
   "outputs": [],
   "source": [
    "raw_data['Дата сдачи'] = raw_data['Дата сдачи'].apply(str)\n",
    "raw_data['Дата сдачи'] = raw_data['Дата сдачи'].apply(parse_year)"
   ]
  },
  {
   "cell_type": "code",
   "execution_count": 106,
   "metadata": {},
   "outputs": [
    {
     "data": {
      "text/plain": [
       "array([2017,    0, 2019, 2021, 2020, 2018, 2022], dtype=int64)"
      ]
     },
     "execution_count": 106,
     "metadata": {},
     "output_type": "execute_result"
    }
   ],
   "source": [
    "raw_data['Дата сдачи'].unique()"
   ]
  },
  {
   "cell_type": "markdown",
   "metadata": {},
   "source": [
    "### Добавим столбец стоимости за 1 кв.м."
   ]
  },
  {
   "cell_type": "code",
   "execution_count": 107,
   "metadata": {},
   "outputs": [],
   "source": [
    "raw_data['Стоимость 1 кв.м.'] = raw_data['Стоимость'] / raw_data['Площадь']"
   ]
  },
  {
   "cell_type": "code",
   "execution_count": 108,
   "metadata": {},
   "outputs": [
    {
     "data": {
      "text/html": [
       "<div>\n",
       "<style scoped>\n",
       "    .dataframe tbody tr th:only-of-type {\n",
       "        vertical-align: middle;\n",
       "    }\n",
       "\n",
       "    .dataframe tbody tr th {\n",
       "        vertical-align: top;\n",
       "    }\n",
       "\n",
       "    .dataframe thead th {\n",
       "        text-align: right;\n",
       "    }\n",
       "</style>\n",
       "<table border=\"1\" class=\"dataframe\">\n",
       "  <thead>\n",
       "    <tr style=\"text-align: right;\">\n",
       "      <th></th>\n",
       "      <th>Создано</th>\n",
       "      <th>Обновлено</th>\n",
       "      <th>Тип объекта</th>\n",
       "      <th>Название</th>\n",
       "      <th>Назначение</th>\n",
       "      <th>Количество комнат</th>\n",
       "      <th>Адрес</th>\n",
       "      <th>Площадь</th>\n",
       "      <th>Жилая площадь</th>\n",
       "      <th>Площадь кухни</th>\n",
       "      <th>...</th>\n",
       "      <th>Дом(строение)</th>\n",
       "      <th>Этаж</th>\n",
       "      <th>Этажей в доме</th>\n",
       "      <th>Вторичное жилье</th>\n",
       "      <th>Стадия строительства</th>\n",
       "      <th>Дата сдачи</th>\n",
       "      <th>Предложение</th>\n",
       "      <th>Стоимость</th>\n",
       "      <th>url</th>\n",
       "      <th>Стоимость 1 кв.м.</th>\n",
       "    </tr>\n",
       "  </thead>\n",
       "  <tbody>\n",
       "    <tr>\n",
       "      <td>0</td>\n",
       "      <td>28-06-2019</td>\n",
       "      <td>19-02-2020</td>\n",
       "      <td>Квартира</td>\n",
       "      <td>2-х комнатная квартира</td>\n",
       "      <td>Жилое</td>\n",
       "      <td>2</td>\n",
       "      <td>в ЖК «Крылья», ул. Чернышевского, 137а, ОКТЯБР...</td>\n",
       "      <td>63.8</td>\n",
       "      <td>27.98</td>\n",
       "      <td>10.15</td>\n",
       "      <td>...</td>\n",
       "      <td>NaN</td>\n",
       "      <td>11</td>\n",
       "      <td>18</td>\n",
       "      <td>0</td>\n",
       "      <td>сдан</td>\n",
       "      <td>2017</td>\n",
       "      <td>Продажа</td>\n",
       "      <td>3410000</td>\n",
       "      <td>https://kvadrat64.ru/sellflat-548180.html</td>\n",
       "      <td>53448.275862</td>\n",
       "    </tr>\n",
       "    <tr>\n",
       "      <td>1</td>\n",
       "      <td>04-07-2018</td>\n",
       "      <td>19-02-2020</td>\n",
       "      <td>Квартира</td>\n",
       "      <td>3-х комнатная квартира</td>\n",
       "      <td>Жилое</td>\n",
       "      <td>3</td>\n",
       "      <td>в ЖК «Крылья», ул. Чернышевского, 137а, ОКТЯБР...</td>\n",
       "      <td>87.6</td>\n",
       "      <td>44.29</td>\n",
       "      <td>11.37</td>\n",
       "      <td>...</td>\n",
       "      <td>NaN</td>\n",
       "      <td>7</td>\n",
       "      <td>18</td>\n",
       "      <td>0</td>\n",
       "      <td>сдан</td>\n",
       "      <td>2017</td>\n",
       "      <td>Продажа</td>\n",
       "      <td>4240000</td>\n",
       "      <td>https://kvadrat64.ru/sellflat-499537.html</td>\n",
       "      <td>48401.826484</td>\n",
       "    </tr>\n",
       "    <tr>\n",
       "      <td>2</td>\n",
       "      <td>07-06-2018</td>\n",
       "      <td>19-02-2020</td>\n",
       "      <td>Квартира</td>\n",
       "      <td>4-х комнатная квартира</td>\n",
       "      <td>Жилое</td>\n",
       "      <td>4</td>\n",
       "      <td>в ЖК «Крылья», ул. Им Н. Г. Чернышевского, 137...</td>\n",
       "      <td>112.3</td>\n",
       "      <td>57.60</td>\n",
       "      <td>10.36</td>\n",
       "      <td>...</td>\n",
       "      <td>NaN</td>\n",
       "      <td>4</td>\n",
       "      <td>18</td>\n",
       "      <td>0</td>\n",
       "      <td>сдан</td>\n",
       "      <td>2017</td>\n",
       "      <td>Продажа</td>\n",
       "      <td>4860000</td>\n",
       "      <td>https://kvadrat64.ru/sellflat-495453.html</td>\n",
       "      <td>43276.936776</td>\n",
       "    </tr>\n",
       "    <tr>\n",
       "      <td>3</td>\n",
       "      <td>11-01-2020</td>\n",
       "      <td>19-02-2020</td>\n",
       "      <td>Квартира</td>\n",
       "      <td>2-х комнатная квартира</td>\n",
       "      <td>Жилое</td>\n",
       "      <td>2</td>\n",
       "      <td>ул. Одесская, 24, ЛЕНИНСКИЙ, Саратов</td>\n",
       "      <td>52.0</td>\n",
       "      <td>28.50</td>\n",
       "      <td>7.40</td>\n",
       "      <td>...</td>\n",
       "      <td>NaN</td>\n",
       "      <td>3</td>\n",
       "      <td>9</td>\n",
       "      <td>1978</td>\n",
       "      <td>нет данных</td>\n",
       "      <td>0</td>\n",
       "      <td>Продажа</td>\n",
       "      <td>2150000</td>\n",
       "      <td>https://kvadrat64.ru/sellflat-570093.html</td>\n",
       "      <td>41346.153846</td>\n",
       "    </tr>\n",
       "    <tr>\n",
       "      <td>4</td>\n",
       "      <td>02-02-2020</td>\n",
       "      <td>19-02-2020</td>\n",
       "      <td>Квартира</td>\n",
       "      <td>2-х комнатная квартира</td>\n",
       "      <td>Жилое</td>\n",
       "      <td>2</td>\n",
       "      <td>ул. 1-й Автодорожный Проезд, 5/8, ОКТЯБРЬСКИЙ,...</td>\n",
       "      <td>52.5</td>\n",
       "      <td>35.00</td>\n",
       "      <td>9.00</td>\n",
       "      <td>...</td>\n",
       "      <td>NaN</td>\n",
       "      <td>8</td>\n",
       "      <td>10</td>\n",
       "      <td>0</td>\n",
       "      <td>нет данных</td>\n",
       "      <td>0</td>\n",
       "      <td>Продажа</td>\n",
       "      <td>3750000</td>\n",
       "      <td>https://kvadrat64.ru/sellflat-573177.html</td>\n",
       "      <td>71428.571429</td>\n",
       "    </tr>\n",
       "  </tbody>\n",
       "</table>\n",
       "<p>5 rows × 24 columns</p>\n",
       "</div>"
      ],
      "text/plain": [
       "      Создано   Обновлено Тип объекта                Название Назначение  \\\n",
       "0  28-06-2019  19-02-2020    Квартира  2-х комнатная квартира      Жилое   \n",
       "1  04-07-2018  19-02-2020    Квартира  3-х комнатная квартира      Жилое   \n",
       "2  07-06-2018  19-02-2020    Квартира  4-х комнатная квартира      Жилое   \n",
       "3  11-01-2020  19-02-2020    Квартира  2-х комнатная квартира      Жилое   \n",
       "4  02-02-2020  19-02-2020    Квартира  2-х комнатная квартира      Жилое   \n",
       "\n",
       "   Количество комнат                                              Адрес  \\\n",
       "0                  2  в ЖК «Крылья», ул. Чернышевского, 137а, ОКТЯБР...   \n",
       "1                  3  в ЖК «Крылья», ул. Чернышевского, 137а, ОКТЯБР...   \n",
       "2                  4  в ЖК «Крылья», ул. Им Н. Г. Чернышевского, 137...   \n",
       "3                  2               ул. Одесская, 24, ЛЕНИНСКИЙ, Саратов   \n",
       "4                  2  ул. 1-й Автодорожный Проезд, 5/8, ОКТЯБРЬСКИЙ,...   \n",
       "\n",
       "   Площадь  Жилая площадь  Площадь кухни  ... Дом(строение) Этаж  \\\n",
       "0     63.8          27.98          10.15  ...           NaN   11   \n",
       "1     87.6          44.29          11.37  ...           NaN    7   \n",
       "2    112.3          57.60          10.36  ...           NaN    4   \n",
       "3     52.0          28.50           7.40  ...           NaN    3   \n",
       "4     52.5          35.00           9.00  ...           NaN    8   \n",
       "\n",
       "  Этажей в доме Вторичное жилье  Стадия строительства  Дата сдачи  \\\n",
       "0            18               0                  сдан        2017   \n",
       "1            18               0                  сдан        2017   \n",
       "2            18               0                  сдан        2017   \n",
       "3             9            1978            нет данных           0   \n",
       "4            10               0            нет данных           0   \n",
       "\n",
       "   Предложение  Стоимость                                        url  \\\n",
       "0      Продажа    3410000  https://kvadrat64.ru/sellflat-548180.html   \n",
       "1      Продажа    4240000  https://kvadrat64.ru/sellflat-499537.html   \n",
       "2      Продажа    4860000  https://kvadrat64.ru/sellflat-495453.html   \n",
       "3      Продажа    2150000  https://kvadrat64.ru/sellflat-570093.html   \n",
       "4      Продажа    3750000  https://kvadrat64.ru/sellflat-573177.html   \n",
       "\n",
       "   Стоимость 1 кв.м.  \n",
       "0       53448.275862  \n",
       "1       48401.826484  \n",
       "2       43276.936776  \n",
       "3       41346.153846  \n",
       "4       71428.571429  \n",
       "\n",
       "[5 rows x 24 columns]"
      ]
     },
     "execution_count": 108,
     "metadata": {},
     "output_type": "execute_result"
    }
   ],
   "source": [
    "raw_data.head()"
   ]
  },
  {
   "cell_type": "markdown",
   "metadata": {},
   "source": [
    "**Разделим столбцы по типу**"
   ]
  },
  {
   "cell_type": "code",
   "execution_count": 109,
   "metadata": {},
   "outputs": [
    {
     "data": {
      "text/plain": [
       "Index(['Создано', 'Обновлено', 'Тип объекта', 'Название', 'Назначение',\n",
       "       'Количество комнат', 'Адрес', 'Площадь', 'Жилая площадь',\n",
       "       'Площадь кухни', 'Планировка квартиры', 'Комнаты', 'Санузел', 'Балкон',\n",
       "       'Дом(строение)', 'Этаж', 'Этажей в доме', 'Вторичное жилье',\n",
       "       'Стадия строительства', 'Дата сдачи', 'Предложение', 'Стоимость', 'url',\n",
       "       'Стоимость 1 кв.м.'],\n",
       "      dtype='object')"
      ]
     },
     "execution_count": 109,
     "metadata": {},
     "output_type": "execute_result"
    }
   ],
   "source": [
    "raw_data.columns"
   ]
  },
  {
   "cell_type": "code",
   "execution_count": 110,
   "metadata": {},
   "outputs": [
    {
     "data": {
      "text/plain": [
       "24"
      ]
     },
     "execution_count": 110,
     "metadata": {},
     "output_type": "execute_result"
    }
   ],
   "source": [
    "len(raw_data.columns)"
   ]
  },
  {
   "cell_type": "code",
   "execution_count": 111,
   "metadata": {},
   "outputs": [],
   "source": [
    "dates_columns = ['Создано', 'Обновлено']\n",
    "string_columns = ['Тип объекта', 'Название', 'Назначение', 'Адрес', 'Планировка квартиры', 'Комнаты', 'Санузел', 'Балкон',\n",
    "       'Дом(строение)', 'Стадия строительства', 'Предложение', 'url']\n",
    "numerical_columns = ['Количество комнат', 'Площадь', 'Жилая площадь',\n",
    "       'Площадь кухни', 'Этаж', 'Этажей в доме', 'Вторичное жилье', 'Дата сдачи', 'Стоимость', 'Стоимость 1 кв.м.']"
   ]
  },
  {
   "cell_type": "code",
   "execution_count": 112,
   "metadata": {},
   "outputs": [
    {
     "data": {
      "text/plain": [
       "24"
      ]
     },
     "execution_count": 112,
     "metadata": {},
     "output_type": "execute_result"
    }
   ],
   "source": [
    "len(dates_columns) + len(string_columns) + len(numerical_columns)"
   ]
  },
  {
   "cell_type": "markdown",
   "metadata": {},
   "source": [
    "### Работаем со столбцами дат"
   ]
  },
  {
   "cell_type": "code",
   "execution_count": 113,
   "metadata": {},
   "outputs": [
    {
     "data": {
      "text/html": [
       "<div>\n",
       "<style scoped>\n",
       "    .dataframe tbody tr th:only-of-type {\n",
       "        vertical-align: middle;\n",
       "    }\n",
       "\n",
       "    .dataframe tbody tr th {\n",
       "        vertical-align: top;\n",
       "    }\n",
       "\n",
       "    .dataframe thead th {\n",
       "        text-align: right;\n",
       "    }\n",
       "</style>\n",
       "<table border=\"1\" class=\"dataframe\">\n",
       "  <thead>\n",
       "    <tr style=\"text-align: right;\">\n",
       "      <th></th>\n",
       "      <th>Создано</th>\n",
       "      <th>Обновлено</th>\n",
       "    </tr>\n",
       "  </thead>\n",
       "  <tbody>\n",
       "    <tr>\n",
       "      <td>0</td>\n",
       "      <td>28-06-2019</td>\n",
       "      <td>19-02-2020</td>\n",
       "    </tr>\n",
       "    <tr>\n",
       "      <td>1</td>\n",
       "      <td>04-07-2018</td>\n",
       "      <td>19-02-2020</td>\n",
       "    </tr>\n",
       "    <tr>\n",
       "      <td>2</td>\n",
       "      <td>07-06-2018</td>\n",
       "      <td>19-02-2020</td>\n",
       "    </tr>\n",
       "    <tr>\n",
       "      <td>3</td>\n",
       "      <td>11-01-2020</td>\n",
       "      <td>19-02-2020</td>\n",
       "    </tr>\n",
       "    <tr>\n",
       "      <td>4</td>\n",
       "      <td>02-02-2020</td>\n",
       "      <td>19-02-2020</td>\n",
       "    </tr>\n",
       "  </tbody>\n",
       "</table>\n",
       "</div>"
      ],
      "text/plain": [
       "      Создано   Обновлено\n",
       "0  28-06-2019  19-02-2020\n",
       "1  04-07-2018  19-02-2020\n",
       "2  07-06-2018  19-02-2020\n",
       "3  11-01-2020  19-02-2020\n",
       "4  02-02-2020  19-02-2020"
      ]
     },
     "execution_count": 113,
     "metadata": {},
     "output_type": "execute_result"
    }
   ],
   "source": [
    "raw_data[dates_columns].head()"
   ]
  },
  {
   "cell_type": "code",
   "execution_count": 114,
   "metadata": {},
   "outputs": [
    {
     "name": "stdout",
     "output_type": "stream",
     "text": [
      "<class 'pandas.core.frame.DataFrame'>\n",
      "RangeIndex: 13521 entries, 0 to 13520\n",
      "Data columns (total 2 columns):\n",
      "Создано      13521 non-null object\n",
      "Обновлено    13521 non-null object\n",
      "dtypes: object(2)\n",
      "memory usage: 211.4+ KB\n"
     ]
    }
   ],
   "source": [
    "raw_data[dates_columns].info()"
   ]
  },
  {
   "cell_type": "code",
   "execution_count": 117,
   "metadata": {},
   "outputs": [],
   "source": [
    "raw_data['Создано']= pd.to_datetime(raw_data['Создано'], format=\"%d-%m-%Y\")\n",
    "raw_data['Обновлено']= pd.to_datetime(raw_data['Обновлено'], format=\"%d-%m-%Y\")"
   ]
  },
  {
   "cell_type": "code",
   "execution_count": 118,
   "metadata": {},
   "outputs": [
    {
     "data": {
      "text/html": [
       "<div>\n",
       "<style scoped>\n",
       "    .dataframe tbody tr th:only-of-type {\n",
       "        vertical-align: middle;\n",
       "    }\n",
       "\n",
       "    .dataframe tbody tr th {\n",
       "        vertical-align: top;\n",
       "    }\n",
       "\n",
       "    .dataframe thead th {\n",
       "        text-align: right;\n",
       "    }\n",
       "</style>\n",
       "<table border=\"1\" class=\"dataframe\">\n",
       "  <thead>\n",
       "    <tr style=\"text-align: right;\">\n",
       "      <th></th>\n",
       "      <th>Создано</th>\n",
       "      <th>Обновлено</th>\n",
       "    </tr>\n",
       "  </thead>\n",
       "  <tbody>\n",
       "    <tr>\n",
       "      <td>0</td>\n",
       "      <td>2019-06-28</td>\n",
       "      <td>2020-02-19</td>\n",
       "    </tr>\n",
       "    <tr>\n",
       "      <td>1</td>\n",
       "      <td>2018-07-04</td>\n",
       "      <td>2020-02-19</td>\n",
       "    </tr>\n",
       "    <tr>\n",
       "      <td>2</td>\n",
       "      <td>2018-06-07</td>\n",
       "      <td>2020-02-19</td>\n",
       "    </tr>\n",
       "    <tr>\n",
       "      <td>3</td>\n",
       "      <td>2020-01-11</td>\n",
       "      <td>2020-02-19</td>\n",
       "    </tr>\n",
       "    <tr>\n",
       "      <td>4</td>\n",
       "      <td>2020-02-02</td>\n",
       "      <td>2020-02-19</td>\n",
       "    </tr>\n",
       "  </tbody>\n",
       "</table>\n",
       "</div>"
      ],
      "text/plain": [
       "     Создано  Обновлено\n",
       "0 2019-06-28 2020-02-19\n",
       "1 2018-07-04 2020-02-19\n",
       "2 2018-06-07 2020-02-19\n",
       "3 2020-01-11 2020-02-19\n",
       "4 2020-02-02 2020-02-19"
      ]
     },
     "execution_count": 118,
     "metadata": {},
     "output_type": "execute_result"
    }
   ],
   "source": [
    "raw_data[dates_columns].head()"
   ]
  },
  {
   "cell_type": "code",
   "execution_count": 119,
   "metadata": {},
   "outputs": [
    {
     "name": "stdout",
     "output_type": "stream",
     "text": [
      "<class 'pandas.core.frame.DataFrame'>\n",
      "RangeIndex: 13521 entries, 0 to 13520\n",
      "Data columns (total 2 columns):\n",
      "Создано      13521 non-null datetime64[ns]\n",
      "Обновлено    13521 non-null datetime64[ns]\n",
      "dtypes: datetime64[ns](2)\n",
      "memory usage: 211.4 KB\n"
     ]
    }
   ],
   "source": [
    "raw_data[dates_columns].info()"
   ]
  },
  {
   "cell_type": "markdown",
   "metadata": {},
   "source": [
    "### Рассмотрим распределения по основных характеристикам"
   ]
  },
  {
   "cell_type": "code",
   "execution_count": 11,
   "metadata": {},
   "outputs": [
    {
     "data": {
      "text/plain": [
       "<matplotlib.axes._subplots.AxesSubplot at 0x287af5b0ac8>"
      ]
     },
     "execution_count": 11,
     "metadata": {},
     "output_type": "execute_result"
    },
    {
     "data": {
      "image/png": "[encoded data removed]",
      "text/plain": [
       "<Figure size 432x288 with 1 Axes>"
      ]
     },
     "metadata": {
      "needs_background": "light"
     },
     "output_type": "display_data"
    }
   ],
   "source": [
    "raw_data['Название'].value_counts().plot(kind='bar')"
   ]
  },
  {
   "cell_type": "code",
   "execution_count": 10,
   "metadata": {},
   "outputs": [
    {
     "data": {
      "text/plain": [
       "<matplotlib.axes._subplots.AxesSubplot at 0x287af4dea48>"
      ]
     },
     "execution_count": 10,
     "metadata": {},
     "output_type": "execute_result"
    },
    {
     "data": {
      "image/png": "[encoded data removed]",
      "text/plain": [
       "<Figure size 432x288 with 1 Axes>"
      ]
     },
     "metadata": {
      "needs_background": "light"
     },
     "output_type": "display_data"
    }
   ],
   "source": [
    "raw_data['Количество комнат'].value_counts().plot(kind='bar')"
   ]
  },
  {
   "cell_type": "markdown",
   "metadata": {},
   "source": [
    "### Работаем со столбцом адреса"
   ]
  },
  {
   "cell_type": "code",
   "execution_count": 19,
   "metadata": {},
   "outputs": [],
   "source": [
    "districts_list = ['ОКТЯБРЬСКИЙ', 'ФРУНЗЕНСКИЙ', 'КИРОВСКИЙ', 'ЗАВОДСКОЙ', 'ВОЛЖСКИЙ', 'ЛЕНИНСКИЙ', 'ЭНГЕЛЬС']\n",
    "\n",
    "def parse_district(address_string):\n",
    "    district_pattern = r'\\s[А-Я]{4,},' # r'\\s[А-Я]+,'\n",
    "    address_string = str(address_string)\n",
    "    match = re.search(district_pattern, address_string)\n",
    "    district = match[0].replace(',','').strip() if match else ''\n",
    "    district = district if district in districts_list else 'НЕ УКАЗАН'\n",
    "    return district"
   ]
  },
  {
   "cell_type": "code",
   "execution_count": 20,
   "metadata": {},
   "outputs": [
    {
     "data": {
      "text/plain": [
       "<matplotlib.axes._subplots.AxesSubplot at 0x161de53c390>"
      ]
     },
     "execution_count": 20,
     "metadata": {},
     "output_type": "execute_result"
    },
    {
     "data": {
      "image/png": "[encoded data removed]",
      "text/plain": [
       "<Figure size 432x288 with 1 Axes>"
      ]
     },
     "metadata": {
      "needs_background": "light"
     },
     "output_type": "display_data"
    }
   ],
   "source": [
    "data_flats['Район'] = data_flats['Адрес'].apply(parse_district)\n",
    "#data_flats['Район'].unique()\n",
    "data_flats['Район'].value_counts().plot(kind='bar')"
   ]
  },
  {
   "cell_type": "markdown",
   "metadata": {},
   "source": [
    "### Работаем с координатами"
   ]
  },
  {
   "cell_type": "code",
   "execution_count": null,
   "metadata": {},
   "outputs": [],
   "source": [
    "# https://switch-case.ru/52501108\n",
    "# https://github.com/googlemaps/google-maps-services-python\n",
    "# https://overcoder.net/q/125334/%D0%BA%D0%B0%D0%BA-%D0%BF%D0%BE%D0%BB%D1%83%D1%87%D0%B8%D1%82%D1%8C-%D0%BA%D0%BE%D0%BE%D1%80%D0%B4%D0%B8%D0%BD%D0%B0%D1%82%D1%8B-%D0%B0%D0%B4%D1%80%D0%B5%D1%81%D0%B0-%D0%B8%D0%B7-python"
   ]
  },
  {
   "cell_type": "code",
   "execution_count": null,
   "metadata": {},
   "outputs": [],
   "source": []
  },
  {
   "cell_type": "markdown",
   "metadata": {},
   "source": [
    "**Сохраняем итоговый csv-файл**"
   ]
  },
  {
   "cell_type": "code",
   "execution_count": 25,
   "metadata": {},
   "outputs": [],
   "source": [
    "data_flats.to_csv('apartments_prep.csv', index=None, header=True)"
   ]
  },
  {
   "cell_type": "code",
   "execution_count": null,
   "metadata": {},
   "outputs": [],
   "source": []
  }
 ],
 "metadata": {
  "kernelspec": {
   "display_name": "Python 3",
   "language": "python",
   "name": "python3"
  },
  "language_info": {
   "codemirror_mode": {
    "name": "ipython",
    "version": 3
   },
   "file_extension": ".py",
   "mimetype": "text/x-python",
   "name": "python",
   "nbconvert_exporter": "python",
   "pygments_lexer": "ipython3",
   "version": "3.7.4"
  }
 },
 "nbformat": 4,
 "nbformat_minor": 2
}
