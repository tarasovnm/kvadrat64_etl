{
 "cells": [
  {
   "cell_type": "markdown",
   "metadata": {},
   "source": [
    "## Очистка и подготовка данных"
   ]
  },
  {
   "cell_type": "code",
   "execution_count": 1,
   "metadata": {},
   "outputs": [],
   "source": [
    "import matplotlib\n",
    "import pandas as pd\n",
    "import seaborn as sns\n",
    "import numpy as np\n",
    "import matplotlib.pyplot as plt\n",
    "\n",
    "from utils.cell_cleaners import stage_transform, parse_year, parse_district, clean_address, parse_city\n",
    "\n",
    "%matplotlib inline  "
   ]
  },
  {
   "cell_type": "markdown",
   "metadata": {},
   "source": [
    "### Загружаем датасет и смотрим его основные характеристики"
   ]
  },
  {
   "cell_type": "code",
   "execution_count": 2,
   "metadata": {},
   "outputs": [
    {
     "data": {
      "text/html": [
       "<div>\n",
       "<style scoped>\n",
       "    .dataframe tbody tr th:only-of-type {\n",
       "        vertical-align: middle;\n",
       "    }\n",
       "\n",
       "    .dataframe tbody tr th {\n",
       "        vertical-align: top;\n",
       "    }\n",
       "\n",
       "    .dataframe thead th {\n",
       "        text-align: right;\n",
       "    }\n",
       "</style>\n",
       "<table border=\"1\" class=\"dataframe\">\n",
       "  <thead>\n",
       "    <tr style=\"text-align: right;\">\n",
       "      <th></th>\n",
       "      <th>Создано</th>\n",
       "      <th>Обновлено</th>\n",
       "      <th>Тип объекта</th>\n",
       "      <th>Название</th>\n",
       "      <th>Назначение</th>\n",
       "      <th>Количество комнат</th>\n",
       "      <th>Адрес</th>\n",
       "      <th>Площадь</th>\n",
       "      <th>Жилая площадь</th>\n",
       "      <th>Площадь кухни</th>\n",
       "      <th>...</th>\n",
       "      <th>Балкон</th>\n",
       "      <th>Дом(строение)</th>\n",
       "      <th>Этаж</th>\n",
       "      <th>Этажей в доме</th>\n",
       "      <th>Вторичное жилье</th>\n",
       "      <th>Стадия строительства</th>\n",
       "      <th>Дата сдачи</th>\n",
       "      <th>Предложение</th>\n",
       "      <th>Стоимость</th>\n",
       "      <th>url</th>\n",
       "    </tr>\n",
       "  </thead>\n",
       "  <tbody>\n",
       "    <tr>\n",
       "      <th>0</th>\n",
       "      <td>28-06-2019</td>\n",
       "      <td>19-02-2020</td>\n",
       "      <td>Квартира</td>\n",
       "      <td>2-х комнатная квартира</td>\n",
       "      <td>Жилое</td>\n",
       "      <td>2</td>\n",
       "      <td>в ЖК «Крылья», ул. Чернышевского, 137а, ОКТЯБР...</td>\n",
       "      <td>63.8</td>\n",
       "      <td>27.98</td>\n",
       "      <td>10.15</td>\n",
       "      <td>...</td>\n",
       "      <td>лоджия</td>\n",
       "      <td>NaN</td>\n",
       "      <td>11</td>\n",
       "      <td>18</td>\n",
       "      <td>NaN</td>\n",
       "      <td>дом сдан</td>\n",
       "      <td>2017 год постройки</td>\n",
       "      <td>Продажа</td>\n",
       "      <td>3410000</td>\n",
       "      <td>https://kvadrat64.ru/sellflat-548180.html</td>\n",
       "    </tr>\n",
       "    <tr>\n",
       "      <th>1</th>\n",
       "      <td>04-07-2018</td>\n",
       "      <td>19-02-2020</td>\n",
       "      <td>Квартира</td>\n",
       "      <td>3-х комнатная квартира</td>\n",
       "      <td>Жилое</td>\n",
       "      <td>3</td>\n",
       "      <td>в ЖК «Крылья», ул. Чернышевского, 137а, ОКТЯБР...</td>\n",
       "      <td>87.6</td>\n",
       "      <td>44.29</td>\n",
       "      <td>11.37</td>\n",
       "      <td>...</td>\n",
       "      <td>лоджия</td>\n",
       "      <td>NaN</td>\n",
       "      <td>7</td>\n",
       "      <td>18</td>\n",
       "      <td>NaN</td>\n",
       "      <td>дом сдан</td>\n",
       "      <td>2017 год постройки</td>\n",
       "      <td>Продажа</td>\n",
       "      <td>4240000</td>\n",
       "      <td>https://kvadrat64.ru/sellflat-499537.html</td>\n",
       "    </tr>\n",
       "    <tr>\n",
       "      <th>2</th>\n",
       "      <td>07-06-2018</td>\n",
       "      <td>19-02-2020</td>\n",
       "      <td>Квартира</td>\n",
       "      <td>4-х комнатная квартира</td>\n",
       "      <td>Жилое</td>\n",
       "      <td>4</td>\n",
       "      <td>в ЖК «Крылья», ул. Им Н. Г. Чернышевского, 137...</td>\n",
       "      <td>112.3</td>\n",
       "      <td>57.60</td>\n",
       "      <td>10.36</td>\n",
       "      <td>...</td>\n",
       "      <td>2 лоджии</td>\n",
       "      <td>NaN</td>\n",
       "      <td>4</td>\n",
       "      <td>18</td>\n",
       "      <td>NaN</td>\n",
       "      <td>дом сдан</td>\n",
       "      <td>2017 год постройки</td>\n",
       "      <td>Продажа</td>\n",
       "      <td>4860000</td>\n",
       "      <td>https://kvadrat64.ru/sellflat-495453.html</td>\n",
       "    </tr>\n",
       "    <tr>\n",
       "      <th>3</th>\n",
       "      <td>11-01-2020</td>\n",
       "      <td>19-02-2020</td>\n",
       "      <td>Квартира</td>\n",
       "      <td>2-х комнатная квартира</td>\n",
       "      <td>Жилое</td>\n",
       "      <td>2</td>\n",
       "      <td>ул. Одесская, 24, ЛЕНИНСКИЙ, Саратов</td>\n",
       "      <td>52.0</td>\n",
       "      <td>28.50</td>\n",
       "      <td>7.40</td>\n",
       "      <td>...</td>\n",
       "      <td>лоджия</td>\n",
       "      <td>NaN</td>\n",
       "      <td>3</td>\n",
       "      <td>9</td>\n",
       "      <td>1978 год постройки</td>\n",
       "      <td>NaN</td>\n",
       "      <td>NaN</td>\n",
       "      <td>Продажа</td>\n",
       "      <td>2150000</td>\n",
       "      <td>https://kvadrat64.ru/sellflat-570093.html</td>\n",
       "    </tr>\n",
       "    <tr>\n",
       "      <th>4</th>\n",
       "      <td>02-02-2020</td>\n",
       "      <td>19-02-2020</td>\n",
       "      <td>Квартира</td>\n",
       "      <td>2-х комнатная квартира</td>\n",
       "      <td>Жилое</td>\n",
       "      <td>2</td>\n",
       "      <td>ул. 1-й Автодорожный Проезд, 5/8, ОКТЯБРЬСКИЙ,...</td>\n",
       "      <td>52.5</td>\n",
       "      <td>35.00</td>\n",
       "      <td>9.00</td>\n",
       "      <td>...</td>\n",
       "      <td>2 лоджии</td>\n",
       "      <td>NaN</td>\n",
       "      <td>8</td>\n",
       "      <td>10</td>\n",
       "      <td>NaN</td>\n",
       "      <td>NaN</td>\n",
       "      <td>NaN</td>\n",
       "      <td>Продажа</td>\n",
       "      <td>3750000</td>\n",
       "      <td>https://kvadrat64.ru/sellflat-573177.html</td>\n",
       "    </tr>\n",
       "  </tbody>\n",
       "</table>\n",
       "<p>5 rows × 23 columns</p>\n",
       "</div>"
      ],
      "text/plain": [
       "      Создано   Обновлено Тип объекта                Название Назначение  \\\n",
       "0  28-06-2019  19-02-2020    Квартира  2-х комнатная квартира      Жилое   \n",
       "1  04-07-2018  19-02-2020    Квартира  3-х комнатная квартира      Жилое   \n",
       "2  07-06-2018  19-02-2020    Квартира  4-х комнатная квартира      Жилое   \n",
       "3  11-01-2020  19-02-2020    Квартира  2-х комнатная квартира      Жилое   \n",
       "4  02-02-2020  19-02-2020    Квартира  2-х комнатная квартира      Жилое   \n",
       "\n",
       "   Количество комнат                                              Адрес  \\\n",
       "0                  2  в ЖК «Крылья», ул. Чернышевского, 137а, ОКТЯБР...   \n",
       "1                  3  в ЖК «Крылья», ул. Чернышевского, 137а, ОКТЯБР...   \n",
       "2                  4  в ЖК «Крылья», ул. Им Н. Г. Чернышевского, 137...   \n",
       "3                  2               ул. Одесская, 24, ЛЕНИНСКИЙ, Саратов   \n",
       "4                  2  ул. 1-й Автодорожный Проезд, 5/8, ОКТЯБРЬСКИЙ,...   \n",
       "\n",
       "   Площадь  Жилая площадь  Площадь кухни  ...    Балкон Дом(строение) Этаж  \\\n",
       "0     63.8          27.98          10.15  ...    лоджия           NaN   11   \n",
       "1     87.6          44.29          11.37  ...    лоджия           NaN    7   \n",
       "2    112.3          57.60          10.36  ...  2 лоджии           NaN    4   \n",
       "3     52.0          28.50           7.40  ...    лоджия           NaN    3   \n",
       "4     52.5          35.00           9.00  ...  2 лоджии           NaN    8   \n",
       "\n",
       "  Этажей в доме     Вторичное жилье  Стадия строительства          Дата сдачи  \\\n",
       "0            18                 NaN              дом сдан  2017 год постройки   \n",
       "1            18                 NaN              дом сдан  2017 год постройки   \n",
       "2            18                 NaN              дом сдан  2017 год постройки   \n",
       "3             9  1978 год постройки                   NaN                 NaN   \n",
       "4            10                 NaN                   NaN                 NaN   \n",
       "\n",
       "  Предложение Стоимость                                        url  \n",
       "0     Продажа   3410000  https://kvadrat64.ru/sellflat-548180.html  \n",
       "1     Продажа   4240000  https://kvadrat64.ru/sellflat-499537.html  \n",
       "2     Продажа   4860000  https://kvadrat64.ru/sellflat-495453.html  \n",
       "3     Продажа   2150000  https://kvadrat64.ru/sellflat-570093.html  \n",
       "4     Продажа   3750000  https://kvadrat64.ru/sellflat-573177.html  \n",
       "\n",
       "[5 rows x 23 columns]"
      ]
     },
     "execution_count": 2,
     "metadata": {},
     "output_type": "execute_result"
    }
   ],
   "source": [
    "raw_data = pd.read_csv('apartments.csv')\n",
    "raw_data.head()"
   ]
  },
  {
   "cell_type": "code",
   "execution_count": 3,
   "metadata": {},
   "outputs": [
    {
     "name": "stdout",
     "output_type": "stream",
     "text": [
      "<class 'pandas.core.frame.DataFrame'>\n",
      "RangeIndex: 13565 entries, 0 to 13564\n",
      "Data columns (total 23 columns):\n",
      "Создано                 13565 non-null object\n",
      "Обновлено               13565 non-null object\n",
      "Тип объекта             13565 non-null object\n",
      "Название                13563 non-null object\n",
      "Назначение              13565 non-null object\n",
      "Количество комнат       13565 non-null int64\n",
      "Адрес                   13565 non-null object\n",
      "Площадь                 13565 non-null float64\n",
      "Жилая площадь           13565 non-null float64\n",
      "Площадь кухни           13565 non-null float64\n",
      "Планировка квартиры     2838 non-null object\n",
      "Комнаты                 6172 non-null object\n",
      "Санузел                 9208 non-null object\n",
      "Балкон                  8585 non-null object\n",
      "Дом(строение)           0 non-null float64\n",
      "Этаж                    13565 non-null int64\n",
      "Этажей в доме           13565 non-null int64\n",
      "Вторичное жилье         2532 non-null object\n",
      "Стадия строительства    2172 non-null object\n",
      "Дата сдачи              2601 non-null object\n",
      "Предложение             13565 non-null object\n",
      "Стоимость               13565 non-null int64\n",
      "url                     13565 non-null object\n",
      "dtypes: float64(4), int64(4), object(15)\n",
      "memory usage: 2.4+ MB\n"
     ]
    }
   ],
   "source": [
    "raw_data.info()"
   ]
  },
  {
   "cell_type": "code",
   "execution_count": 4,
   "metadata": {},
   "outputs": [
    {
     "data": {
      "text/plain": [
       "(13565, 23)"
      ]
     },
     "execution_count": 4,
     "metadata": {},
     "output_type": "execute_result"
    }
   ],
   "source": [
    "raw_data.shape"
   ]
  },
  {
   "cell_type": "code",
   "execution_count": 5,
   "metadata": {
    "scrolled": true
   },
   "outputs": [
    {
     "data": {
      "text/plain": [
       "Index(['Создано', 'Обновлено', 'Тип объекта', 'Название', 'Назначение',\n",
       "       'Количество комнат', 'Адрес', 'Площадь', 'Жилая площадь',\n",
       "       'Площадь кухни', 'Планировка квартиры', 'Комнаты', 'Санузел', 'Балкон',\n",
       "       'Дом(строение)', 'Этаж', 'Этажей в доме', 'Вторичное жилье',\n",
       "       'Стадия строительства', 'Дата сдачи', 'Предложение', 'Стоимость',\n",
       "       'url'],\n",
       "      dtype='object')"
      ]
     },
     "execution_count": 5,
     "metadata": {},
     "output_type": "execute_result"
    }
   ],
   "source": [
    "raw_data.columns"
   ]
  },
  {
   "cell_type": "markdown",
   "metadata": {},
   "source": [
    "### Работаем со столбцами определяющими статус дома во времени"
   ]
  },
  {
   "cell_type": "code",
   "execution_count": 6,
   "metadata": {},
   "outputs": [
    {
     "data": {
      "text/html": [
       "<div>\n",
       "<style scoped>\n",
       "    .dataframe tbody tr th:only-of-type {\n",
       "        vertical-align: middle;\n",
       "    }\n",
       "\n",
       "    .dataframe tbody tr th {\n",
       "        vertical-align: top;\n",
       "    }\n",
       "\n",
       "    .dataframe thead th {\n",
       "        text-align: right;\n",
       "    }\n",
       "</style>\n",
       "<table border=\"1\" class=\"dataframe\">\n",
       "  <thead>\n",
       "    <tr style=\"text-align: right;\">\n",
       "      <th></th>\n",
       "      <th>Вторичное жилье</th>\n",
       "      <th>Стадия строительства</th>\n",
       "      <th>Дата сдачи</th>\n",
       "    </tr>\n",
       "  </thead>\n",
       "  <tbody>\n",
       "    <tr>\n",
       "      <th>count</th>\n",
       "      <td>2532</td>\n",
       "      <td>2172</td>\n",
       "      <td>2601</td>\n",
       "    </tr>\n",
       "    <tr>\n",
       "      <th>unique</th>\n",
       "      <td>82</td>\n",
       "      <td>3</td>\n",
       "      <td>42</td>\n",
       "    </tr>\n",
       "    <tr>\n",
       "      <th>top</th>\n",
       "      <td>2016 год постройки</td>\n",
       "      <td>дом сдан</td>\n",
       "      <td>2019 год постройки</td>\n",
       "    </tr>\n",
       "    <tr>\n",
       "      <th>freq</th>\n",
       "      <td>178</td>\n",
       "      <td>1184</td>\n",
       "      <td>986</td>\n",
       "    </tr>\n",
       "  </tbody>\n",
       "</table>\n",
       "</div>"
      ],
      "text/plain": [
       "           Вторичное жилье Стадия строительства          Дата сдачи\n",
       "count                 2532                 2172                2601\n",
       "unique                  82                    3                  42\n",
       "top     2016 год постройки             дом сдан  2019 год постройки\n",
       "freq                   178                 1184                 986"
      ]
     },
     "execution_count": 6,
     "metadata": {},
     "output_type": "execute_result"
    }
   ],
   "source": [
    "raw_data[['Вторичное жилье','Стадия строительства', 'Дата сдачи']].describe()"
   ]
  },
  {
   "cell_type": "markdown",
   "metadata": {},
   "source": [
    "#### Стадия строительства"
   ]
  },
  {
   "cell_type": "code",
   "execution_count": 7,
   "metadata": {},
   "outputs": [
    {
     "data": {
      "text/plain": [
       "array(['дом сдан', nan, 'дом построен но не сдан', 'дом еще строится'],\n",
       "      dtype=object)"
      ]
     },
     "execution_count": 7,
     "metadata": {},
     "output_type": "execute_result"
    }
   ],
   "source": [
    "raw_data['Стадия строительства'].unique()"
   ]
  },
  {
   "cell_type": "code",
   "execution_count": 8,
   "metadata": {},
   "outputs": [],
   "source": [
    "raw_data['Стадия строительства'] = raw_data['Стадия строительства'].apply(stage_transform)"
   ]
  },
  {
   "cell_type": "code",
   "execution_count": 9,
   "metadata": {},
   "outputs": [
    {
     "data": {
      "text/plain": [
       "array(['сдан', 'нет данных', 'не сдан', 'строится'], dtype=object)"
      ]
     },
     "execution_count": 9,
     "metadata": {},
     "output_type": "execute_result"
    }
   ],
   "source": [
    "raw_data['Стадия строительства'].unique()"
   ]
  },
  {
   "cell_type": "markdown",
   "metadata": {},
   "source": [
    "#### Вторичное жилье"
   ]
  },
  {
   "cell_type": "code",
   "execution_count": 10,
   "metadata": {
    "scrolled": true
   },
   "outputs": [
    {
     "data": {
      "text/plain": [
       "array([nan, '1978 год постройки', '1975 год постройки',\n",
       "       '1974 год постройки', '2009 год постройки', '1990 год постройки',\n",
       "       '2014 год постройки', '1970 год постройки', '1968 год постройки',\n",
       "       '2005 год постройки', '2016 год постройки', '1976 год постройки',\n",
       "       '2010 год постройки', '1998 год постройки', '2015 год постройки',\n",
       "       '1992 год постройки', '1956 год постройки', '2011 год постройки',\n",
       "       '1979 год постройки', '1964 год постройки', '1984 год постройки',\n",
       "       '1985 год постройки', '2012 год постройки', '2000 год постройки',\n",
       "       '1957 год постройки', '1997 год постройки', '1952 год постройки',\n",
       "       '1959 год постройки', '1953 год постройки', '1954 год постройки',\n",
       "       '1989 год постройки', '1971 год постройки', '1969 год постройки',\n",
       "       '2003 год постройки', '1972 год постройки', '2007 год постройки',\n",
       "       '1993 год постройки', '2001 год постройки', '1991 год постройки',\n",
       "       '2013 год постройки', '1996 год постройки', '1960 год постройки',\n",
       "       '1981 год постройки', '2004 год постройки', '1995 год постройки',\n",
       "       '1977 год постройки', '1982 год постройки', '1973 год постройки',\n",
       "       '1994 год постройки', '1967 год постройки', '2008 год постройки',\n",
       "       '1983 год постройки', '1987 год постройки', '1980 год постройки',\n",
       "       '1986 год постройки', '1951 год постройки', '2002 год постройки',\n",
       "       '1966 год постройки', '1963 год постройки', '2006 год постройки',\n",
       "       '1988 год постройки', '1917 год постройки', '1950 год постройки',\n",
       "       '1961 год постройки', '1940 год постройки', '1965 год постройки',\n",
       "       '1962 год постройки', '1933 год постройки', '1927 год постройки',\n",
       "       '1915 год постройки', '1999 год постройки', '1955 год постройки',\n",
       "       '1930 год постройки', '1958 год постройки', '1932 год постройки',\n",
       "       '1949 год постройки', '1948 год постройки', '1910 год постройки',\n",
       "       '1936 год постройки', '1913 год постройки', '1945 год постройки',\n",
       "       '1916 год постройки', '1939 год постройки'], dtype=object)"
      ]
     },
     "execution_count": 10,
     "metadata": {},
     "output_type": "execute_result"
    }
   ],
   "source": [
    "raw_data['Вторичное жилье'].unique()"
   ]
  },
  {
   "cell_type": "code",
   "execution_count": 11,
   "metadata": {},
   "outputs": [
    {
     "name": "stderr",
     "output_type": "stream",
     "text": [
      "/Users/tarasovnm/anaconda3/lib/python3.7/site-packages/pandas/core/frame.py:4034: SettingWithCopyWarning: \n",
      "A value is trying to be set on a copy of a slice from a DataFrame\n",
      "\n",
      "See the caveats in the documentation: http://pandas.pydata.org/pandas-docs/stable/indexing.html#indexing-view-versus-copy\n",
      "  downcast=downcast, **kwargs)\n"
     ]
    }
   ],
   "source": [
    "raw_data[['Вторичное жилье']].fillna('нет данных', inplace=True)"
   ]
  },
  {
   "cell_type": "code",
   "execution_count": 12,
   "metadata": {},
   "outputs": [],
   "source": [
    "raw_data['Вторичное жилье'] = raw_data['Вторичное жилье'].apply(str)\n",
    "raw_data['Вторичное жилье'] = raw_data['Вторичное жилье'].apply(parse_year)"
   ]
  },
  {
   "cell_type": "code",
   "execution_count": 13,
   "metadata": {},
   "outputs": [
    {
     "data": {
      "text/plain": [
       "array([   0, 1978, 1975, 1974, 2009, 1990, 2014, 1970, 1968, 2005, 2016,\n",
       "       1976, 2010, 1998, 2015, 1992, 1956, 2011, 1979, 1964, 1984, 1985,\n",
       "       2012, 2000, 1957, 1997, 1952, 1959, 1953, 1954, 1989, 1971, 1969,\n",
       "       2003, 1972, 2007, 1993, 2001, 1991, 2013, 1996, 1960, 1981, 2004,\n",
       "       1995, 1977, 1982, 1973, 1994, 1967, 2008, 1983, 1987, 1980, 1986,\n",
       "       1951, 2002, 1966, 1963, 2006, 1988, 1917, 1950, 1961, 1940, 1965,\n",
       "       1962, 1933, 1927, 1915, 1999, 1955, 1930, 1958, 1932, 1949, 1948,\n",
       "       1910, 1936, 1913, 1945, 1916, 1939])"
      ]
     },
     "execution_count": 13,
     "metadata": {},
     "output_type": "execute_result"
    }
   ],
   "source": [
    "raw_data['Вторичное жилье'].unique()"
   ]
  },
  {
   "cell_type": "markdown",
   "metadata": {},
   "source": [
    "#### Дата сдачи"
   ]
  },
  {
   "cell_type": "code",
   "execution_count": 14,
   "metadata": {},
   "outputs": [
    {
     "data": {
      "text/plain": [
       "array(['2017 год постройки', nan, '2019 год постройки',\n",
       "       'сдача дома 2021 год', 'сдача дома 2020 год, 2-ой квартал',\n",
       "       '2018 год постройки', 'сдача дома 2020 год, 4-ый квартал',\n",
       "       'сдача дома 2021 год, 4-ый квартал', 'сдача дома 2020 год',\n",
       "       'сдача дома 2020 год, 1-ый квартал',\n",
       "       'сдача дома 2020 год, 3-ий квартал', 'сдача дома 2022 год',\n",
       "       'сдача дома 2021 год, 1-ый квартал',\n",
       "       'сдача дома 2020 год, 4-ый квартал, декабрь',\n",
       "       'сдача дома 2020 год, 1-ый квартал, март',\n",
       "       'сдача дома 2020 год, апрель',\n",
       "       'сдача дома 2020 год, 3-ий квартал, сентябрь',\n",
       "       'сдача дома 2021 год, октябрь',\n",
       "       'сдача дома 2020 год, 2-ой квартал, июнь',\n",
       "       'сдача дома 2020 год, 2-ой квартал, апрель',\n",
       "       'сдача дома 2020 год, 2-ой квартал, май',\n",
       "       'сдача дома 2021 год, 2-ой квартал',\n",
       "       'сдача дома 2020 год, 4-ый квартал, ноябрь',\n",
       "       'сдача дома 2020 год, 3-ий квартал, ноябрь',\n",
       "       'сдача дома 2021 год, 3-ий квартал, сентябрь',\n",
       "       'сдача дома 2020 год, 1-ый квартал, январь',\n",
       "       'сдача дома 2021 год, декабрь',\n",
       "       'сдача дома 2022 год, 3-ий квартал, сентябрь',\n",
       "       'сдача дома 2020 год, 1-ый квартал, февраль',\n",
       "       'сдача дома 2020 год, ноябрь', 'сдача дома 2022 год, 3-ий квартал',\n",
       "       'сдача дома 2021 год, 3-ий квартал',\n",
       "       'сдача дома 2021 год, 4-ый квартал, декабрь',\n",
       "       'сдача дома 2020 год, 4-ый квартал, октябрь',\n",
       "       'сдача дома 2021 год, 4-ый квартал, сентябрь',\n",
       "       'сдача дома 2020 год, 1-ый квартал, апрель',\n",
       "       'сдача дома 2020 год, декабрь',\n",
       "       'сдача дома 2021 год, 2-ой квартал, апрель',\n",
       "       'сдача дома 2020 год, 4-ый квартал, сентябрь',\n",
       "       'сдача дома 2021 год, 1-ый квартал, март',\n",
       "       'сдача дома 2020 год, 2-ой квартал, март',\n",
       "       'сдача дома 2020 год, 3-ий квартал, октябрь',\n",
       "       'сдача дома 2021 год, 2-ой квартал, июнь'], dtype=object)"
      ]
     },
     "execution_count": 14,
     "metadata": {},
     "output_type": "execute_result"
    }
   ],
   "source": [
    "raw_data['Дата сдачи'].unique()"
   ]
  },
  {
   "cell_type": "code",
   "execution_count": 15,
   "metadata": {},
   "outputs": [],
   "source": [
    "raw_data[['Дата сдачи']].fillna('нет данных', inplace=True)"
   ]
  },
  {
   "cell_type": "code",
   "execution_count": 16,
   "metadata": {},
   "outputs": [],
   "source": [
    "raw_data['Дата сдачи'] = raw_data['Дата сдачи'].apply(str)\n",
    "raw_data['Дата сдачи'] = raw_data['Дата сдачи'].apply(parse_year)"
   ]
  },
  {
   "cell_type": "code",
   "execution_count": 17,
   "metadata": {},
   "outputs": [
    {
     "data": {
      "text/plain": [
       "array([2017,    0, 2019, 2021, 2020, 2018, 2022])"
      ]
     },
     "execution_count": 17,
     "metadata": {},
     "output_type": "execute_result"
    }
   ],
   "source": [
    "raw_data['Дата сдачи'].unique()"
   ]
  },
  {
   "cell_type": "markdown",
   "metadata": {},
   "source": [
    "### Добавим столбец стоимости за 1 кв.м."
   ]
  },
  {
   "cell_type": "code",
   "execution_count": 18,
   "metadata": {},
   "outputs": [],
   "source": [
    "raw_data['Стоимость 1 кв.м.'] = raw_data['Стоимость'] / raw_data['Площадь']"
   ]
  },
  {
   "cell_type": "code",
   "execution_count": 19,
   "metadata": {},
   "outputs": [
    {
     "data": {
      "text/html": [
       "<div>\n",
       "<style scoped>\n",
       "    .dataframe tbody tr th:only-of-type {\n",
       "        vertical-align: middle;\n",
       "    }\n",
       "\n",
       "    .dataframe tbody tr th {\n",
       "        vertical-align: top;\n",
       "    }\n",
       "\n",
       "    .dataframe thead th {\n",
       "        text-align: right;\n",
       "    }\n",
       "</style>\n",
       "<table border=\"1\" class=\"dataframe\">\n",
       "  <thead>\n",
       "    <tr style=\"text-align: right;\">\n",
       "      <th></th>\n",
       "      <th>Создано</th>\n",
       "      <th>Обновлено</th>\n",
       "      <th>Тип объекта</th>\n",
       "      <th>Название</th>\n",
       "      <th>Назначение</th>\n",
       "      <th>Количество комнат</th>\n",
       "      <th>Адрес</th>\n",
       "      <th>Площадь</th>\n",
       "      <th>Жилая площадь</th>\n",
       "      <th>Площадь кухни</th>\n",
       "      <th>...</th>\n",
       "      <th>Дом(строение)</th>\n",
       "      <th>Этаж</th>\n",
       "      <th>Этажей в доме</th>\n",
       "      <th>Вторичное жилье</th>\n",
       "      <th>Стадия строительства</th>\n",
       "      <th>Дата сдачи</th>\n",
       "      <th>Предложение</th>\n",
       "      <th>Стоимость</th>\n",
       "      <th>url</th>\n",
       "      <th>Стоимость 1 кв.м.</th>\n",
       "    </tr>\n",
       "  </thead>\n",
       "  <tbody>\n",
       "    <tr>\n",
       "      <th>0</th>\n",
       "      <td>28-06-2019</td>\n",
       "      <td>19-02-2020</td>\n",
       "      <td>Квартира</td>\n",
       "      <td>2-х комнатная квартира</td>\n",
       "      <td>Жилое</td>\n",
       "      <td>2</td>\n",
       "      <td>в ЖК «Крылья», ул. Чернышевского, 137а, ОКТЯБР...</td>\n",
       "      <td>63.8</td>\n",
       "      <td>27.98</td>\n",
       "      <td>10.15</td>\n",
       "      <td>...</td>\n",
       "      <td>NaN</td>\n",
       "      <td>11</td>\n",
       "      <td>18</td>\n",
       "      <td>0</td>\n",
       "      <td>сдан</td>\n",
       "      <td>2017</td>\n",
       "      <td>Продажа</td>\n",
       "      <td>3410000</td>\n",
       "      <td>https://kvadrat64.ru/sellflat-548180.html</td>\n",
       "      <td>53448.275862</td>\n",
       "    </tr>\n",
       "    <tr>\n",
       "      <th>1</th>\n",
       "      <td>04-07-2018</td>\n",
       "      <td>19-02-2020</td>\n",
       "      <td>Квартира</td>\n",
       "      <td>3-х комнатная квартира</td>\n",
       "      <td>Жилое</td>\n",
       "      <td>3</td>\n",
       "      <td>в ЖК «Крылья», ул. Чернышевского, 137а, ОКТЯБР...</td>\n",
       "      <td>87.6</td>\n",
       "      <td>44.29</td>\n",
       "      <td>11.37</td>\n",
       "      <td>...</td>\n",
       "      <td>NaN</td>\n",
       "      <td>7</td>\n",
       "      <td>18</td>\n",
       "      <td>0</td>\n",
       "      <td>сдан</td>\n",
       "      <td>2017</td>\n",
       "      <td>Продажа</td>\n",
       "      <td>4240000</td>\n",
       "      <td>https://kvadrat64.ru/sellflat-499537.html</td>\n",
       "      <td>48401.826484</td>\n",
       "    </tr>\n",
       "    <tr>\n",
       "      <th>2</th>\n",
       "      <td>07-06-2018</td>\n",
       "      <td>19-02-2020</td>\n",
       "      <td>Квартира</td>\n",
       "      <td>4-х комнатная квартира</td>\n",
       "      <td>Жилое</td>\n",
       "      <td>4</td>\n",
       "      <td>в ЖК «Крылья», ул. Им Н. Г. Чернышевского, 137...</td>\n",
       "      <td>112.3</td>\n",
       "      <td>57.60</td>\n",
       "      <td>10.36</td>\n",
       "      <td>...</td>\n",
       "      <td>NaN</td>\n",
       "      <td>4</td>\n",
       "      <td>18</td>\n",
       "      <td>0</td>\n",
       "      <td>сдан</td>\n",
       "      <td>2017</td>\n",
       "      <td>Продажа</td>\n",
       "      <td>4860000</td>\n",
       "      <td>https://kvadrat64.ru/sellflat-495453.html</td>\n",
       "      <td>43276.936776</td>\n",
       "    </tr>\n",
       "    <tr>\n",
       "      <th>3</th>\n",
       "      <td>11-01-2020</td>\n",
       "      <td>19-02-2020</td>\n",
       "      <td>Квартира</td>\n",
       "      <td>2-х комнатная квартира</td>\n",
       "      <td>Жилое</td>\n",
       "      <td>2</td>\n",
       "      <td>ул. Одесская, 24, ЛЕНИНСКИЙ, Саратов</td>\n",
       "      <td>52.0</td>\n",
       "      <td>28.50</td>\n",
       "      <td>7.40</td>\n",
       "      <td>...</td>\n",
       "      <td>NaN</td>\n",
       "      <td>3</td>\n",
       "      <td>9</td>\n",
       "      <td>1978</td>\n",
       "      <td>нет данных</td>\n",
       "      <td>0</td>\n",
       "      <td>Продажа</td>\n",
       "      <td>2150000</td>\n",
       "      <td>https://kvadrat64.ru/sellflat-570093.html</td>\n",
       "      <td>41346.153846</td>\n",
       "    </tr>\n",
       "    <tr>\n",
       "      <th>4</th>\n",
       "      <td>02-02-2020</td>\n",
       "      <td>19-02-2020</td>\n",
       "      <td>Квартира</td>\n",
       "      <td>2-х комнатная квартира</td>\n",
       "      <td>Жилое</td>\n",
       "      <td>2</td>\n",
       "      <td>ул. 1-й Автодорожный Проезд, 5/8, ОКТЯБРЬСКИЙ,...</td>\n",
       "      <td>52.5</td>\n",
       "      <td>35.00</td>\n",
       "      <td>9.00</td>\n",
       "      <td>...</td>\n",
       "      <td>NaN</td>\n",
       "      <td>8</td>\n",
       "      <td>10</td>\n",
       "      <td>0</td>\n",
       "      <td>нет данных</td>\n",
       "      <td>0</td>\n",
       "      <td>Продажа</td>\n",
       "      <td>3750000</td>\n",
       "      <td>https://kvadrat64.ru/sellflat-573177.html</td>\n",
       "      <td>71428.571429</td>\n",
       "    </tr>\n",
       "  </tbody>\n",
       "</table>\n",
       "<p>5 rows × 24 columns</p>\n",
       "</div>"
      ],
      "text/plain": [
       "      Создано   Обновлено Тип объекта                Название Назначение  \\\n",
       "0  28-06-2019  19-02-2020    Квартира  2-х комнатная квартира      Жилое   \n",
       "1  04-07-2018  19-02-2020    Квартира  3-х комнатная квартира      Жилое   \n",
       "2  07-06-2018  19-02-2020    Квартира  4-х комнатная квартира      Жилое   \n",
       "3  11-01-2020  19-02-2020    Квартира  2-х комнатная квартира      Жилое   \n",
       "4  02-02-2020  19-02-2020    Квартира  2-х комнатная квартира      Жилое   \n",
       "\n",
       "   Количество комнат                                              Адрес  \\\n",
       "0                  2  в ЖК «Крылья», ул. Чернышевского, 137а, ОКТЯБР...   \n",
       "1                  3  в ЖК «Крылья», ул. Чернышевского, 137а, ОКТЯБР...   \n",
       "2                  4  в ЖК «Крылья», ул. Им Н. Г. Чернышевского, 137...   \n",
       "3                  2               ул. Одесская, 24, ЛЕНИНСКИЙ, Саратов   \n",
       "4                  2  ул. 1-й Автодорожный Проезд, 5/8, ОКТЯБРЬСКИЙ,...   \n",
       "\n",
       "   Площадь  Жилая площадь  Площадь кухни  ... Дом(строение) Этаж  \\\n",
       "0     63.8          27.98          10.15  ...           NaN   11   \n",
       "1     87.6          44.29          11.37  ...           NaN    7   \n",
       "2    112.3          57.60          10.36  ...           NaN    4   \n",
       "3     52.0          28.50           7.40  ...           NaN    3   \n",
       "4     52.5          35.00           9.00  ...           NaN    8   \n",
       "\n",
       "  Этажей в доме Вторичное жилье  Стадия строительства  Дата сдачи  \\\n",
       "0            18               0                  сдан        2017   \n",
       "1            18               0                  сдан        2017   \n",
       "2            18               0                  сдан        2017   \n",
       "3             9            1978            нет данных           0   \n",
       "4            10               0            нет данных           0   \n",
       "\n",
       "   Предложение  Стоимость                                        url  \\\n",
       "0      Продажа    3410000  https://kvadrat64.ru/sellflat-548180.html   \n",
       "1      Продажа    4240000  https://kvadrat64.ru/sellflat-499537.html   \n",
       "2      Продажа    4860000  https://kvadrat64.ru/sellflat-495453.html   \n",
       "3      Продажа    2150000  https://kvadrat64.ru/sellflat-570093.html   \n",
       "4      Продажа    3750000  https://kvadrat64.ru/sellflat-573177.html   \n",
       "\n",
       "   Стоимость 1 кв.м.  \n",
       "0       53448.275862  \n",
       "1       48401.826484  \n",
       "2       43276.936776  \n",
       "3       41346.153846  \n",
       "4       71428.571429  \n",
       "\n",
       "[5 rows x 24 columns]"
      ]
     },
     "execution_count": 19,
     "metadata": {},
     "output_type": "execute_result"
    }
   ],
   "source": [
    "raw_data.head()"
   ]
  },
  {
   "cell_type": "markdown",
   "metadata": {},
   "source": [
    "**Разделим столбцы по типу**"
   ]
  },
  {
   "cell_type": "code",
   "execution_count": 20,
   "metadata": {},
   "outputs": [
    {
     "data": {
      "text/plain": [
       "Index(['Создано', 'Обновлено', 'Тип объекта', 'Название', 'Назначение',\n",
       "       'Количество комнат', 'Адрес', 'Площадь', 'Жилая площадь',\n",
       "       'Площадь кухни', 'Планировка квартиры', 'Комнаты', 'Санузел', 'Балкон',\n",
       "       'Дом(строение)', 'Этаж', 'Этажей в доме', 'Вторичное жилье',\n",
       "       'Стадия строительства', 'Дата сдачи', 'Предложение', 'Стоимость', 'url',\n",
       "       'Стоимость 1 кв.м.'],\n",
       "      dtype='object')"
      ]
     },
     "execution_count": 20,
     "metadata": {},
     "output_type": "execute_result"
    }
   ],
   "source": [
    "raw_data.columns"
   ]
  },
  {
   "cell_type": "code",
   "execution_count": 21,
   "metadata": {},
   "outputs": [
    {
     "data": {
      "text/plain": [
       "24"
      ]
     },
     "execution_count": 21,
     "metadata": {},
     "output_type": "execute_result"
    }
   ],
   "source": [
    "len(raw_data.columns)"
   ]
  },
  {
   "cell_type": "code",
   "execution_count": 22,
   "metadata": {},
   "outputs": [],
   "source": [
    "dates_columns = ['Создано', 'Обновлено']\n",
    "string_columns = ['Тип объекта', 'Название', 'Назначение', 'Адрес', 'Планировка квартиры', 'Комнаты', 'Санузел', 'Балкон',\n",
    "       'Дом(строение)', 'Стадия строительства', 'Предложение', 'url']\n",
    "numerical_columns = ['Количество комнат', 'Площадь', 'Жилая площадь',\n",
    "       'Площадь кухни', 'Этаж', 'Этажей в доме', 'Вторичное жилье', 'Дата сдачи', 'Стоимость', 'Стоимость 1 кв.м.']"
   ]
  },
  {
   "cell_type": "code",
   "execution_count": 23,
   "metadata": {},
   "outputs": [
    {
     "data": {
      "text/plain": [
       "24"
      ]
     },
     "execution_count": 23,
     "metadata": {},
     "output_type": "execute_result"
    }
   ],
   "source": [
    "len(dates_columns) + len(string_columns) + len(numerical_columns)"
   ]
  },
  {
   "cell_type": "markdown",
   "metadata": {},
   "source": [
    "### Работаем со столбцами дат"
   ]
  },
  {
   "cell_type": "code",
   "execution_count": 24,
   "metadata": {},
   "outputs": [
    {
     "data": {
      "text/html": [
       "<div>\n",
       "<style scoped>\n",
       "    .dataframe tbody tr th:only-of-type {\n",
       "        vertical-align: middle;\n",
       "    }\n",
       "\n",
       "    .dataframe tbody tr th {\n",
       "        vertical-align: top;\n",
       "    }\n",
       "\n",
       "    .dataframe thead th {\n",
       "        text-align: right;\n",
       "    }\n",
       "</style>\n",
       "<table border=\"1\" class=\"dataframe\">\n",
       "  <thead>\n",
       "    <tr style=\"text-align: right;\">\n",
       "      <th></th>\n",
       "      <th>Создано</th>\n",
       "      <th>Обновлено</th>\n",
       "    </tr>\n",
       "  </thead>\n",
       "  <tbody>\n",
       "    <tr>\n",
       "      <th>0</th>\n",
       "      <td>28-06-2019</td>\n",
       "      <td>19-02-2020</td>\n",
       "    </tr>\n",
       "    <tr>\n",
       "      <th>1</th>\n",
       "      <td>04-07-2018</td>\n",
       "      <td>19-02-2020</td>\n",
       "    </tr>\n",
       "    <tr>\n",
       "      <th>2</th>\n",
       "      <td>07-06-2018</td>\n",
       "      <td>19-02-2020</td>\n",
       "    </tr>\n",
       "    <tr>\n",
       "      <th>3</th>\n",
       "      <td>11-01-2020</td>\n",
       "      <td>19-02-2020</td>\n",
       "    </tr>\n",
       "    <tr>\n",
       "      <th>4</th>\n",
       "      <td>02-02-2020</td>\n",
       "      <td>19-02-2020</td>\n",
       "    </tr>\n",
       "  </tbody>\n",
       "</table>\n",
       "</div>"
      ],
      "text/plain": [
       "      Создано   Обновлено\n",
       "0  28-06-2019  19-02-2020\n",
       "1  04-07-2018  19-02-2020\n",
       "2  07-06-2018  19-02-2020\n",
       "3  11-01-2020  19-02-2020\n",
       "4  02-02-2020  19-02-2020"
      ]
     },
     "execution_count": 24,
     "metadata": {},
     "output_type": "execute_result"
    }
   ],
   "source": [
    "raw_data[dates_columns].head()"
   ]
  },
  {
   "cell_type": "code",
   "execution_count": 25,
   "metadata": {},
   "outputs": [
    {
     "name": "stdout",
     "output_type": "stream",
     "text": [
      "<class 'pandas.core.frame.DataFrame'>\n",
      "RangeIndex: 13565 entries, 0 to 13564\n",
      "Data columns (total 2 columns):\n",
      "Создано      13565 non-null object\n",
      "Обновлено    13565 non-null object\n",
      "dtypes: object(2)\n",
      "memory usage: 212.0+ KB\n"
     ]
    }
   ],
   "source": [
    "raw_data[dates_columns].info()"
   ]
  },
  {
   "cell_type": "code",
   "execution_count": 26,
   "metadata": {},
   "outputs": [],
   "source": [
    "raw_data['Создано']= pd.to_datetime(raw_data['Создано'], format=\"%d-%m-%Y\")\n",
    "raw_data['Обновлено']= pd.to_datetime(raw_data['Обновлено'], format=\"%d-%m-%Y\")"
   ]
  },
  {
   "cell_type": "code",
   "execution_count": 27,
   "metadata": {},
   "outputs": [
    {
     "data": {
      "text/html": [
       "<div>\n",
       "<style scoped>\n",
       "    .dataframe tbody tr th:only-of-type {\n",
       "        vertical-align: middle;\n",
       "    }\n",
       "\n",
       "    .dataframe tbody tr th {\n",
       "        vertical-align: top;\n",
       "    }\n",
       "\n",
       "    .dataframe thead th {\n",
       "        text-align: right;\n",
       "    }\n",
       "</style>\n",
       "<table border=\"1\" class=\"dataframe\">\n",
       "  <thead>\n",
       "    <tr style=\"text-align: right;\">\n",
       "      <th></th>\n",
       "      <th>Создано</th>\n",
       "      <th>Обновлено</th>\n",
       "    </tr>\n",
       "  </thead>\n",
       "  <tbody>\n",
       "    <tr>\n",
       "      <th>0</th>\n",
       "      <td>2019-06-28</td>\n",
       "      <td>2020-02-19</td>\n",
       "    </tr>\n",
       "    <tr>\n",
       "      <th>1</th>\n",
       "      <td>2018-07-04</td>\n",
       "      <td>2020-02-19</td>\n",
       "    </tr>\n",
       "    <tr>\n",
       "      <th>2</th>\n",
       "      <td>2018-06-07</td>\n",
       "      <td>2020-02-19</td>\n",
       "    </tr>\n",
       "    <tr>\n",
       "      <th>3</th>\n",
       "      <td>2020-01-11</td>\n",
       "      <td>2020-02-19</td>\n",
       "    </tr>\n",
       "    <tr>\n",
       "      <th>4</th>\n",
       "      <td>2020-02-02</td>\n",
       "      <td>2020-02-19</td>\n",
       "    </tr>\n",
       "  </tbody>\n",
       "</table>\n",
       "</div>"
      ],
      "text/plain": [
       "     Создано  Обновлено\n",
       "0 2019-06-28 2020-02-19\n",
       "1 2018-07-04 2020-02-19\n",
       "2 2018-06-07 2020-02-19\n",
       "3 2020-01-11 2020-02-19\n",
       "4 2020-02-02 2020-02-19"
      ]
     },
     "execution_count": 27,
     "metadata": {},
     "output_type": "execute_result"
    }
   ],
   "source": [
    "raw_data[dates_columns].head()"
   ]
  },
  {
   "cell_type": "code",
   "execution_count": 28,
   "metadata": {},
   "outputs": [
    {
     "name": "stdout",
     "output_type": "stream",
     "text": [
      "<class 'pandas.core.frame.DataFrame'>\n",
      "RangeIndex: 13565 entries, 0 to 13564\n",
      "Data columns (total 2 columns):\n",
      "Создано      13565 non-null datetime64[ns]\n",
      "Обновлено    13565 non-null datetime64[ns]\n",
      "dtypes: datetime64[ns](2)\n",
      "memory usage: 212.0 KB\n"
     ]
    }
   ],
   "source": [
    "raw_data[dates_columns].info()"
   ]
  },
  {
   "cell_type": "markdown",
   "metadata": {},
   "source": [
    "### Работаем со столбцом адреса"
   ]
  },
  {
   "cell_type": "code",
   "execution_count": 29,
   "metadata": {},
   "outputs": [
    {
     "data": {
      "text/plain": [
       "0        Саратов\n",
       "1        Саратов\n",
       "2        Саратов\n",
       "3        Саратов\n",
       "4        Саратов\n",
       "5        Саратов\n",
       "6        Саратов\n",
       "7        Саратов\n",
       "8        Саратов\n",
       "9        Саратов\n",
       "10       Саратов\n",
       "11       Саратов\n",
       "12       Саратов\n",
       "13       Саратов\n",
       "14       Саратов\n",
       "15       Саратов\n",
       "16       Саратов\n",
       "17       Саратов\n",
       "18       Саратов\n",
       "19       Саратов\n",
       "20       Саратов\n",
       "21       Саратов\n",
       "22       Саратов\n",
       "23       Саратов\n",
       "24       Саратов\n",
       "25       Саратов\n",
       "26       Саратов\n",
       "27       Саратов\n",
       "28       Саратов\n",
       "29       Саратов\n",
       "          ...   \n",
       "13535    Саратов\n",
       "13536    Саратов\n",
       "13537    Саратов\n",
       "13538    Саратов\n",
       "13539    Саратов\n",
       "13540    Саратов\n",
       "13541    Саратов\n",
       "13542    Саратов\n",
       "13543    Саратов\n",
       "13544    Саратов\n",
       "13545    Саратов\n",
       "13546    Саратов\n",
       "13547    Саратов\n",
       "13548    Саратов\n",
       "13549    Саратов\n",
       "13550    Саратов\n",
       "13551    Саратов\n",
       "13552    Саратов\n",
       "13553    Саратов\n",
       "13554    Саратов\n",
       "13555    Энгельс\n",
       "13556    Саратов\n",
       "13557    Саратов\n",
       "13558    Саратов\n",
       "13559    Саратов\n",
       "13560    Саратов\n",
       "13561    Саратов\n",
       "13562    Саратов\n",
       "13563    Саратов\n",
       "13564    Саратов\n",
       "Name: Город, Length: 13565, dtype: object"
      ]
     },
     "execution_count": 29,
     "metadata": {},
     "output_type": "execute_result"
    }
   ],
   "source": [
    "raw_data['Город'] = raw_data['Адрес'].apply(parse_city)\n",
    "raw_data['Город']"
   ]
  },
  {
   "cell_type": "code",
   "execution_count": 30,
   "metadata": {},
   "outputs": [
    {
     "data": {
      "text/plain": [
       "<matplotlib.axes._subplots.AxesSubplot at 0x1a2123b0b8>"
      ]
     },
     "execution_count": 30,
     "metadata": {},
     "output_type": "execute_result"
    },
    {
     "data": {
      "image/png": "[encoded data removed]",
      "text/plain": [
       "<Figure size 432x288 with 1 Axes>"
      ]
     },
     "metadata": {
      "needs_background": "light"
     },
     "output_type": "display_data"
    }
   ],
   "source": [
    "raw_data['Район'] = raw_data['Адрес'].apply(parse_district)\n",
    "raw_data['Район'].value_counts().plot(kind='bar')"
   ]
  },
  {
   "cell_type": "code",
   "execution_count": 31,
   "metadata": {},
   "outputs": [],
   "source": [
    "raw_data['Адрес кр'] = raw_data['Адрес'].apply(clean_address)"
   ]
  },
  {
   "cell_type": "code",
   "execution_count": 32,
   "metadata": {},
   "outputs": [
    {
     "data": {
      "text/plain": [
       "0                        ул. Чернышевского, 137а\n",
       "1                        ул. Чернышевского, 137а\n",
       "2               ул. Им Н. Г. Чернышевского, 137а\n",
       "3                               ул. Одесская, 24\n",
       "4               ул. 1-й Автодорожный Проезд, 5/8\n",
       "5                             ул. Павелецкая, 69\n",
       "6                                ул. ВаловаЯ, 27\n",
       "7                                ул. Осипова, 24\n",
       "8            ул. Героев Отечества Проспект, 9/22\n",
       "9                                ул. Менякина, 2\n",
       "10                        ул. Тараса Шевченко, 6\n",
       "11                               ул. Тархова, 38\n",
       "12                          ул. Чапаева, 151/247\n",
       "13                       ул. Усть-Курдюмская, 25\n",
       "14                            ул. Романтиков, 48\n",
       "15                              ул. Пугачева, 49\n",
       "16                              ул. Тверская, 26\n",
       "17                               ул. Рамаева, 20\n",
       "18                      ул. Железнодорожная, 58б\n",
       "19                               ул. Блинова, 52\n",
       "20               ул. Ново-Астроханское Шоссе, 85\n",
       "21                   ул. 1-й Тульский Проезд, 10\n",
       "22                 ул. 3-й Крекинский Проезд, 19\n",
       "23               ул. Пензенская, новая9-ялиния12\n",
       "24                 ул. Барнаульская Улица, 22/30\n",
       "25                             ул. Панфилова, 13\n",
       "26                          ул. 2-я Прокатная, 4\n",
       "27                           ул. Дома 8 Марта, 3\n",
       "28                         ул. Перспективная, 8а\n",
       "29                            ул. Ломоносова, 16\n",
       "                          ...                   \n",
       "13535                    43», ул. Московская, 43\n",
       "13536             ул. Новоастраханское Шоссе, 55\n",
       "13537                     ул. Весенний Проезд, 2\n",
       "13538                            ул. Панченко, 6\n",
       "13539                      ул. Новоузенская, 149\n",
       "13540                  ул. Лебедева - Кумача, 84\n",
       "13541                           ул. Мысникова, 6\n",
       "13542                          ул. Химическая, 3\n",
       "13543                           ул. Новоузенская\n",
       "13544                      ул. Пр Строителей, 54\n",
       "13545                            ул. Тархова, 4б\n",
       "13546                             ул. Лунная, 43\n",
       "13547                        ул. Гвардейская, 5б\n",
       "13548                        ул. Гвардейская, 5б\n",
       "13549                 ул. Песковский Переулок, 4\n",
       "13550                             ул. Куприянова\n",
       "13551    ул. 2-й Мельничный Проезд/Чернышевского\n",
       "13552                      ул. Международная, 40\n",
       "13553                            ул. Загорная, 2\n",
       "13554                            ул. Исаева, 42а\n",
       "13555                           ул. Калинина, 5а\n",
       "13556                   ул. Большая Садовая, 113\n",
       "13557                          ул. Весенняя, 4/6\n",
       "13558                        ул. Усть-Курдюмская\n",
       "13559                        ул. Гвардейская, 24\n",
       "13560                        ул. Усть-Курдюмская\n",
       "13561                        ул. 2-Прокатная, 17\n",
       "13562           ул. Им Н. Г. Чернышевского, 137а\n",
       "13563                          ул. Химическая, 6\n",
       "13564                             ул. Тархова, 8\n",
       "Name: Адрес кр, Length: 13565, dtype: object"
      ]
     },
     "execution_count": 32,
     "metadata": {},
     "output_type": "execute_result"
    }
   ],
   "source": [
    "raw_data['Адрес кр']"
   ]
  },
  {
   "cell_type": "code",
   "execution_count": 33,
   "metadata": {},
   "outputs": [
    {
     "data": {
      "text/html": [
       "<div>\n",
       "<style scoped>\n",
       "    .dataframe tbody tr th:only-of-type {\n",
       "        vertical-align: middle;\n",
       "    }\n",
       "\n",
       "    .dataframe tbody tr th {\n",
       "        vertical-align: top;\n",
       "    }\n",
       "\n",
       "    .dataframe thead th {\n",
       "        text-align: right;\n",
       "    }\n",
       "</style>\n",
       "<table border=\"1\" class=\"dataframe\">\n",
       "  <thead>\n",
       "    <tr style=\"text-align: right;\">\n",
       "      <th></th>\n",
       "      <th>Город</th>\n",
       "      <th>Район</th>\n",
       "      <th>Адрес кр</th>\n",
       "    </tr>\n",
       "  </thead>\n",
       "  <tbody>\n",
       "    <tr>\n",
       "      <th>0</th>\n",
       "      <td>Саратов</td>\n",
       "      <td>Октябрьский</td>\n",
       "      <td>ул. Чернышевского, 137а</td>\n",
       "    </tr>\n",
       "    <tr>\n",
       "      <th>1</th>\n",
       "      <td>Саратов</td>\n",
       "      <td>Октябрьский</td>\n",
       "      <td>ул. Чернышевского, 137а</td>\n",
       "    </tr>\n",
       "    <tr>\n",
       "      <th>2</th>\n",
       "      <td>Саратов</td>\n",
       "      <td>Октябрьский</td>\n",
       "      <td>ул. Им Н. Г. Чернышевского, 137а</td>\n",
       "    </tr>\n",
       "    <tr>\n",
       "      <th>3</th>\n",
       "      <td>Саратов</td>\n",
       "      <td>Ленинский</td>\n",
       "      <td>ул. Одесская, 24</td>\n",
       "    </tr>\n",
       "    <tr>\n",
       "      <th>4</th>\n",
       "      <td>Саратов</td>\n",
       "      <td>Октябрьский</td>\n",
       "      <td>ул. 1-й Автодорожный Проезд, 5/8</td>\n",
       "    </tr>\n",
       "  </tbody>\n",
       "</table>\n",
       "</div>"
      ],
      "text/plain": [
       "     Город        Район                           Адрес кр\n",
       "0  Саратов  Октябрьский            ул. Чернышевского, 137а\n",
       "1  Саратов  Октябрьский            ул. Чернышевского, 137а\n",
       "2  Саратов  Октябрьский   ул. Им Н. Г. Чернышевского, 137а\n",
       "3  Саратов    Ленинский                   ул. Одесская, 24\n",
       "4  Саратов  Октябрьский   ул. 1-й Автодорожный Проезд, 5/8"
      ]
     },
     "execution_count": 33,
     "metadata": {},
     "output_type": "execute_result"
    }
   ],
   "source": [
    "raw_data[['Город', 'Район', 'Адрес кр']].head()"
   ]
  },
  {
   "cell_type": "markdown",
   "metadata": {},
   "source": [
    "### Работаем с координатами"
   ]
  },
  {
   "cell_type": "code",
   "execution_count": 34,
   "metadata": {},
   "outputs": [],
   "source": [
    "# https://switch-case.ru/52501108\n",
    "# https://github.com/googlemaps/google-maps-services-python\n",
    "# https://overcoder.net/q/125334/%D0%BA%D0%B0%D0%BA-%D0%BF%D0%BE%D0%BB%D1%83%D1%87%D0%B8%D1%82%D1%8C-%D0%BA%D0%BE%D0%BE%D1%80%D0%B4%D0%B8%D0%BD%D0%B0%D1%82%D1%8B-%D0%B0%D0%B4%D1%80%D0%B5%D1%81%D0%B0-%D0%B8%D0%B7-python"
   ]
  },
  {
   "cell_type": "code",
   "execution_count": null,
   "metadata": {},
   "outputs": [],
   "source": []
  },
  {
   "cell_type": "markdown",
   "metadata": {},
   "source": [
    "### Рассмотрим распределения по основных характеристикам"
   ]
  },
  {
   "cell_type": "code",
   "execution_count": 35,
   "metadata": {},
   "outputs": [
    {
     "data": {
      "text/plain": [
       "<matplotlib.axes._subplots.AxesSubplot at 0x1a30aa4f98>"
      ]
     },
     "execution_count": 35,
     "metadata": {},
     "output_type": "execute_result"
    },
    {
     "data": {
      "image/png": "[encoded data removed]",
      "text/plain": [
       "<Figure size 432x288 with 1 Axes>"
      ]
     },
     "metadata": {
      "needs_background": "light"
     },
     "output_type": "display_data"
    }
   ],
   "source": [
    "raw_data['Название'].value_counts().plot(kind='bar')"
   ]
  },
  {
   "cell_type": "code",
   "execution_count": 36,
   "metadata": {
    "scrolled": true
   },
   "outputs": [
    {
     "data": {
      "text/plain": [
       "<matplotlib.axes._subplots.AxesSubplot at 0x1a30e5c4a8>"
      ]
     },
     "execution_count": 36,
     "metadata": {},
     "output_type": "execute_result"
    },
    {
     "data": {
      "image/png": "[encoded data removed]",
      "text/plain": [
       "<Figure size 432x288 with 1 Axes>"
      ]
     },
     "metadata": {
      "needs_background": "light"
     },
     "output_type": "display_data"
    }
   ],
   "source": [
    "raw_data['Количество комнат'].value_counts().plot(kind='bar')"
   ]
  },
  {
   "cell_type": "markdown",
   "metadata": {},
   "source": [
    "**Сохраняем итоговый csv-файл**"
   ]
  },
  {
   "cell_type": "code",
   "execution_count": 37,
   "metadata": {},
   "outputs": [
    {
     "ename": "NameError",
     "evalue": "name 'data_flats' is not defined",
     "output_type": "error",
     "traceback": [
      "\u001b[0;31m---------------------------------------------------------------------------\u001b[0m",
      "\u001b[0;31mNameError\u001b[0m                                 Traceback (most recent call last)",
      "\u001b[0;32m<ipython-input-37-e87f491950e5>\u001b[0m in \u001b[0;36m<module>\u001b[0;34m\u001b[0m\n\u001b[0;32m----> 1\u001b[0;31m \u001b[0mdata_flats\u001b[0m\u001b[0;34m.\u001b[0m\u001b[0mto_csv\u001b[0m\u001b[0;34m(\u001b[0m\u001b[0;34m'apartments_prep.csv'\u001b[0m\u001b[0;34m,\u001b[0m \u001b[0mindex\u001b[0m\u001b[0;34m=\u001b[0m\u001b[0;32mNone\u001b[0m\u001b[0;34m,\u001b[0m \u001b[0mheader\u001b[0m\u001b[0;34m=\u001b[0m\u001b[0;32mTrue\u001b[0m\u001b[0;34m)\u001b[0m\u001b[0;34m\u001b[0m\u001b[0;34m\u001b[0m\u001b[0m\n\u001b[0m",
      "\u001b[0;31mNameError\u001b[0m: name 'data_flats' is not defined"
     ]
    }
   ],
   "source": [
    "data_flats.to_csv('apartments_prep.csv', index=None, header=True)"
   ]
  },
  {
   "cell_type": "code",
   "execution_count": null,
   "metadata": {},
   "outputs": [],
   "source": []
  }
 ],
 "metadata": {
  "kernelspec": {
   "display_name": "Python 3",
   "language": "python",
   "name": "python3"
  },
  "language_info": {
   "codemirror_mode": {
    "name": "ipython",
    "version": 3
   },
   "file_extension": ".py",
   "mimetype": "text/x-python",
   "name": "python",
   "nbconvert_exporter": "python",
   "pygments_lexer": "ipython3",
   "version": "3.7.3"
  }
 },
 "nbformat": 4,
 "nbformat_minor": 2
}
